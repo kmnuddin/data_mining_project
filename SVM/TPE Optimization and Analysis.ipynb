{
 "cells": [
  {
   "cell_type": "code",
   "execution_count": 136,
   "metadata": {},
   "outputs": [],
   "source": [
    "import numpy as np\n",
    "\n",
    "from sklearn.model_selection import train_test_split\n",
    "\n",
    "from sklearn.preprocessing import StandardScaler\n",
    "\n",
    "from hyperopt import Trials, fmin, tpe, hp\n",
    "\n",
    "from sklearn.svm import SVC\n",
    "from sklearn.metrics import classification_report, confusion_matrix\n",
    "from hyperopt_svm import run_svm\n",
    "import pickle\n",
    "import os\n",
    "import traceback\n",
    "import seaborn as sns\n",
    "import pandas as pd\n",
    "\n",
    "import matplotlib.pyplot as plt\n",
    "from matplotlib import cm\n",
    "plt.style.use('ggplot')"
   ]
  },
  {
   "cell_type": "code",
   "execution_count": 2,
   "metadata": {},
   "outputs": [],
   "source": [
    "def get_data(folder_path):\n",
    "    files = ['tk1_state4.npy', 'tk1_state5.npy', 'tk3_state4.npy', 'tk3_state5.npy']\n",
    "    paths = [os.path.join(folder_path, file) for file in files]\n",
    "    data = []\n",
    "    labels = []\n",
    "    for i,path in enumerate(paths):\n",
    "        \n",
    "        if i == 0:\n",
    "            data = np.load(path)\n",
    "            labels = [i + 1] * len(data)\n",
    "            continue\n",
    "            \n",
    "        d = np.load(path)\n",
    "        data = np.vstack((data, d))\n",
    "        labels.extend([i+1] * len(d))\n",
    "        \n",
    "    return data, labels"
   ]
  },
  {
   "cell_type": "code",
   "execution_count": 3,
   "metadata": {},
   "outputs": [],
   "source": [
    "alpha_path = 'alpha_band_graphs'\n",
    "beta_path = 'beta_band_graphs'\n",
    "gamma_path = 'gamma_band_graphs'\n",
    "\n",
    "X_alpha, y_alpha = get_data(alpha_path)\n",
    "X_beta, y_beta = get_data(beta_path)\n",
    "X_gamma, y_gamma = get_data(gamma_path)\n",
    "\n",
    "X_alpha = np.reshape(X_alpha, (-1, 68*68))\n",
    "X_beta = np.reshape(X_beta, (-1, 68*68))\n",
    "X_gamma = np.reshape(X_gamma, (-1, 68*68))\n",
    "\n",
    "scaler_alpha = StandardScaler()\n",
    "scaler_beta = StandardScaler()\n",
    "scaler_gamma = StandardScaler()\n",
    "\n",
    "X_alpha = scaler_alpha.fit_transform(X_alpha)\n",
    "X_beta = scaler_beta.fit_transform(X_beta)\n",
    "X_gamma = scaler_gamma.fit_transform(X_gamma)\n",
    "\n",
    "Xa_train, Xa_test, ya_train, ya_test = train_test_split(X_alpha, y_alpha, test_size=0.33, random_state=42)\n",
    "Xb_train, Xb_test, yb_train, yb_test = train_test_split(X_alpha, y_alpha, test_size=0.33, random_state=42)\n",
    "Xg_train, Xg_test, yg_train, yg_test = train_test_split(X_alpha, y_alpha, test_size=0.33, random_state=42)\n",
    "\n",
    "np.savez('train_test_data/alpha.npz', X_train=Xa_train, X_test=Xa_test, y_train=ya_train, y_test=ya_test)\n",
    "np.savez('train_test_data/beta.npz', X_train=Xb_train, X_test=Xb_test, y_train=yb_train, y_test=yb_test)\n",
    "np.savez('train_test_data/gamma.npz', X_train=Xg_train, X_test=Xg_test, y_train=yg_train, y_test=yg_test)"
   ]
  },
  {
   "cell_type": "code",
   "execution_count": 4,
   "metadata": {},
   "outputs": [],
   "source": [
    "space = {\n",
    "    'band': hp.choice('band', ['alpha', 'beta', 'gamma']),\n",
    "    'params': {\n",
    "        'C': hp.lognormal('C', 0,1),\n",
    "        'kernel': hp.choice('kernel', ['rbf','poly', 'linear', 'sigmoid']),\n",
    "        'degree': hp.choice('degree', range(1,5)),\n",
    "        'gamma': hp.uniform('gamma',1e-2, 1e2)\n",
    "    }\n",
    "}"
   ]
  },
  {
   "cell_type": "code",
   "execution_count": 5,
   "metadata": {},
   "outputs": [],
   "source": [
    "def run_trial():\n",
    "\n",
    "    max_evals = nb_evals = 1\n",
    "\n",
    "    try:\n",
    "        trials = pickle.load(open(\"results.pkl\", \"rb\"))\n",
    "        print(\"Found saved Trials! Loading...\")\n",
    "        max_evals = len(trials.trials) + nb_evals\n",
    "        print(\"Rerunning from {} trials to add another one.\".format(\n",
    "            len(trials.trials)))\n",
    "\n",
    "    except:\n",
    "        trials = Trials()\n",
    "        print(\"Starting from scratch: new trials.\")\n",
    "\n",
    "    print(\"\\nSTARTED OPTIMIZATION STEP.\\n\")\n",
    "    best = fmin(run_svm, space, algo=tpe.suggest, trials=trials, max_evals=max_evals)\n",
    "\n",
    "    pickle.dump(trials, open(\"results.pkl\", \"wb\"))\n",
    "\n",
    "    print(\"\\nOPTIMIZATION STEP COMPLETE.\\n\")"
   ]
  },
  {
   "cell_type": "code",
   "execution_count": 6,
   "metadata": {},
   "outputs": [
    {
     "name": "stdout",
     "output_type": "stream",
     "text": [
      "Starting from scratch: new trials.\n",
      "\n",
      "STARTED OPTIMIZATION STEP.\n",
      "\n",
      "100%|██████████| 1/1 [00:18<00:00, 18.29s/trial, best loss: -1.0]\n",
      "\n",
      "OPTIMIZATION STEP COMPLETE.\n",
      "\n",
      "Found saved Trials! Loading...\n",
      "Rerunning from 1 trials to add another one.\n",
      "\n",
      "STARTED OPTIMIZATION STEP.\n",
      "\n",
      "100%|██████████| 2/2 [00:30<00:00, 15.03s/trial, best loss: -1.0]\n",
      "\n",
      "OPTIMIZATION STEP COMPLETE.\n",
      "\n",
      "Found saved Trials! Loading...\n",
      "Rerunning from 2 trials to add another one.\n",
      "\n",
      "STARTED OPTIMIZATION STEP.\n",
      "\n",
      "100%|██████████| 3/3 [00:51<00:00, 17.01s/trial, best loss: -1.0]\n",
      "\n",
      "OPTIMIZATION STEP COMPLETE.\n",
      "\n",
      "Found saved Trials! Loading...\n",
      "Rerunning from 3 trials to add another one.\n",
      "\n",
      "STARTED OPTIMIZATION STEP.\n",
      "\n",
      "100%|██████████| 4/4 [02:32<00:00, 38.20s/trial, best loss: -1.0] \n",
      "\n",
      "OPTIMIZATION STEP COMPLETE.\n",
      "\n",
      "Found saved Trials! Loading...\n",
      "Rerunning from 4 trials to add another one.\n",
      "\n",
      "STARTED OPTIMIZATION STEP.\n",
      "\n",
      " 80%|████████  | 4/5 [00:00<?, ?trial/s, best loss=?]"
     ]
    },
    {
     "name": "stderr",
     "output_type": "stream",
     "text": [
      "/home/kam/.virtualenvs/dl4cv/lib/python3.7/site-packages/sklearn/metrics/_classification.py:1268: UndefinedMetricWarning: Precision and F-score are ill-defined and being set to 0.0 in labels with no predicted samples. Use `zero_division` parameter to control this behavior.\n",
      "  _warn_prf(average, modifier, msg_start, len(result))\n",
      "\n"
     ]
    },
    {
     "name": "stdout",
     "output_type": "stream",
     "text": [
      "100%|██████████| 5/5 [02:18<00:00, 27.67s/trial, best loss: -1.0] \n",
      "\n",
      "OPTIMIZATION STEP COMPLETE.\n",
      "\n",
      "Found saved Trials! Loading...\n",
      "Rerunning from 5 trials to add another one.\n",
      "\n",
      "STARTED OPTIMIZATION STEP.\n",
      "\n",
      "100%|██████████| 6/6 [00:18<00:00,  3.05s/trial, best loss: -1.0]\n",
      "\n",
      "OPTIMIZATION STEP COMPLETE.\n",
      "\n",
      "Found saved Trials! Loading...\n",
      "Rerunning from 6 trials to add another one.\n",
      "\n",
      "STARTED OPTIMIZATION STEP.\n",
      "\n",
      "100%|██████████| 7/7 [00:18<00:00,  2.60s/trial, best loss: -1.0]\n",
      "\n",
      "OPTIMIZATION STEP COMPLETE.\n",
      "\n",
      "Found saved Trials! Loading...\n",
      "Rerunning from 7 trials to add another one.\n",
      "\n",
      "STARTED OPTIMIZATION STEP.\n",
      "\n",
      "100%|██████████| 8/8 [00:35<00:00,  4.46s/trial, best loss: -1.0]\n",
      "\n",
      "OPTIMIZATION STEP COMPLETE.\n",
      "\n",
      "Found saved Trials! Loading...\n",
      "Rerunning from 8 trials to add another one.\n",
      "\n",
      "STARTED OPTIMIZATION STEP.\n",
      "\n",
      "100%|██████████| 9/9 [02:32<00:00, 17.00s/trial, best loss: -1.0] \n",
      "\n",
      "OPTIMIZATION STEP COMPLETE.\n",
      "\n",
      "Found saved Trials! Loading...\n",
      "Rerunning from 9 trials to add another one.\n",
      "\n",
      "STARTED OPTIMIZATION STEP.\n",
      "\n",
      " 90%|█████████ | 9/10 [00:00<?, ?trial/s, best loss=?]"
     ]
    },
    {
     "name": "stderr",
     "output_type": "stream",
     "text": [
      "/home/kam/.virtualenvs/dl4cv/lib/python3.7/site-packages/sklearn/metrics/_classification.py:1268: UndefinedMetricWarning: Precision and F-score are ill-defined and being set to 0.0 in labels with no predicted samples. Use `zero_division` parameter to control this behavior.\n",
      "  _warn_prf(average, modifier, msg_start, len(result))\n",
      "\n"
     ]
    },
    {
     "name": "stdout",
     "output_type": "stream",
     "text": [
      "100%|██████████| 10/10 [00:18<00:00,  1.82s/trial, best loss: -1.0]\n",
      "\n",
      "OPTIMIZATION STEP COMPLETE.\n",
      "\n",
      "Found saved Trials! Loading...\n",
      "Rerunning from 10 trials to add another one.\n",
      "\n",
      "STARTED OPTIMIZATION STEP.\n",
      "\n",
      "100%|██████████| 11/11 [02:18<00:00, 12.58s/trial, best loss: -1.0] \n",
      "\n",
      "OPTIMIZATION STEP COMPLETE.\n",
      "\n",
      "Found saved Trials! Loading...\n",
      "Rerunning from 11 trials to add another one.\n",
      "\n",
      "STARTED OPTIMIZATION STEP.\n",
      "\n",
      "100%|██████████| 12/12 [01:34<00:00,  7.90s/trial, best loss: -1.0]\n",
      "\n",
      "OPTIMIZATION STEP COMPLETE.\n",
      "\n",
      "Found saved Trials! Loading...\n",
      "Rerunning from 12 trials to add another one.\n",
      "\n",
      "STARTED OPTIMIZATION STEP.\n",
      "\n",
      "100%|██████████| 13/13 [02:18<00:00, 10.64s/trial, best loss: -1.0] \n",
      "\n",
      "OPTIMIZATION STEP COMPLETE.\n",
      "\n",
      "Found saved Trials! Loading...\n",
      "Rerunning from 13 trials to add another one.\n",
      "\n",
      "STARTED OPTIMIZATION STEP.\n",
      "\n",
      "100%|██████████| 14/14 [00:18<00:00,  1.30s/trial, best loss: -1.0]\n",
      "\n",
      "OPTIMIZATION STEP COMPLETE.\n",
      "\n",
      "Found saved Trials! Loading...\n",
      "Rerunning from 14 trials to add another one.\n",
      "\n",
      "STARTED OPTIMIZATION STEP.\n",
      "\n",
      "100%|██████████| 15/15 [00:30<00:00,  2.01s/trial, best loss: -1.0]\n",
      "\n",
      "OPTIMIZATION STEP COMPLETE.\n",
      "\n",
      "Found saved Trials! Loading...\n",
      "Rerunning from 15 trials to add another one.\n",
      "\n",
      "STARTED OPTIMIZATION STEP.\n",
      "\n",
      " 94%|█████████▍| 15/16 [00:00<?, ?trial/s, best loss=?]"
     ]
    },
    {
     "name": "stderr",
     "output_type": "stream",
     "text": [
      "/home/kam/.virtualenvs/dl4cv/lib/python3.7/site-packages/sklearn/metrics/_classification.py:1268: UndefinedMetricWarning: Precision and F-score are ill-defined and being set to 0.0 in labels with no predicted samples. Use `zero_division` parameter to control this behavior.\n",
      "  _warn_prf(average, modifier, msg_start, len(result))\n",
      "\n"
     ]
    },
    {
     "name": "stdout",
     "output_type": "stream",
     "text": [
      "100%|██████████| 16/16 [02:33<00:00,  9.59s/trial, best loss: -1.0] \n",
      "\n",
      "OPTIMIZATION STEP COMPLETE.\n",
      "\n",
      "Found saved Trials! Loading...\n",
      "Rerunning from 16 trials to add another one.\n",
      "\n",
      "STARTED OPTIMIZATION STEP.\n",
      "\n",
      "100%|██████████| 17/17 [00:18<00:00,  1.07s/trial, best loss: -1.0]\n",
      "\n",
      "OPTIMIZATION STEP COMPLETE.\n",
      "\n",
      "Found saved Trials! Loading...\n",
      "Rerunning from 17 trials to add another one.\n",
      "\n",
      "STARTED OPTIMIZATION STEP.\n",
      "\n",
      "100%|██████████| 18/18 [00:18<00:00,  1.02s/trial, best loss: -1.0]\n",
      "\n",
      "OPTIMIZATION STEP COMPLETE.\n",
      "\n",
      "Found saved Trials! Loading...\n",
      "Rerunning from 18 trials to add another one.\n",
      "\n",
      "STARTED OPTIMIZATION STEP.\n",
      "\n",
      "100%|██████████| 19/19 [00:30<00:00,  1.59s/trial, best loss: -1.0]\n",
      "\n",
      "OPTIMIZATION STEP COMPLETE.\n",
      "\n",
      "Found saved Trials! Loading...\n",
      "Rerunning from 19 trials to add another one.\n",
      "\n",
      "STARTED OPTIMIZATION STEP.\n",
      "\n",
      "100%|██████████| 20/20 [00:18<00:00,  1.09trial/s, best loss: -1.0]\n",
      "\n",
      "OPTIMIZATION STEP COMPLETE.\n",
      "\n",
      "Found saved Trials! Loading...\n",
      "Rerunning from 20 trials to add another one.\n",
      "\n",
      "STARTED OPTIMIZATION STEP.\n",
      "\n",
      "100%|██████████| 21/21 [00:18<00:00,  1.15trial/s, best loss: -1.0]\n",
      "\n",
      "OPTIMIZATION STEP COMPLETE.\n",
      "\n",
      "Found saved Trials! Loading...\n",
      "Rerunning from 21 trials to add another one.\n",
      "\n",
      "STARTED OPTIMIZATION STEP.\n",
      "\n",
      "100%|██████████| 22/22 [00:18<00:00,  1.20trial/s, best loss: -1.0]\n",
      "\n",
      "OPTIMIZATION STEP COMPLETE.\n",
      "\n",
      "Found saved Trials! Loading...\n",
      "Rerunning from 22 trials to add another one.\n",
      "\n",
      "STARTED OPTIMIZATION STEP.\n",
      "\n",
      "100%|██████████| 23/23 [00:18<00:00,  1.26trial/s, best loss: -1.0]\n",
      "\n",
      "OPTIMIZATION STEP COMPLETE.\n",
      "\n",
      "Found saved Trials! Loading...\n",
      "Rerunning from 23 trials to add another one.\n",
      "\n",
      "STARTED OPTIMIZATION STEP.\n",
      "\n",
      "100%|██████████| 24/24 [00:18<00:00,  1.31trial/s, best loss: -1.0]\n",
      "\n",
      "OPTIMIZATION STEP COMPLETE.\n",
      "\n",
      "Found saved Trials! Loading...\n",
      "Rerunning from 24 trials to add another one.\n",
      "\n",
      "STARTED OPTIMIZATION STEP.\n",
      "\n",
      "100%|██████████| 25/25 [00:18<00:00,  1.37trial/s, best loss: -1.0]\n",
      "\n",
      "OPTIMIZATION STEP COMPLETE.\n",
      "\n",
      "Found saved Trials! Loading...\n",
      "Rerunning from 25 trials to add another one.\n",
      "\n",
      "STARTED OPTIMIZATION STEP.\n",
      "\n",
      "100%|██████████| 26/26 [02:32<00:00,  5.87s/trial, best loss: -1.0] \n",
      "\n",
      "OPTIMIZATION STEP COMPLETE.\n",
      "\n",
      "Found saved Trials! Loading...\n",
      "Rerunning from 26 trials to add another one.\n",
      "\n",
      "STARTED OPTIMIZATION STEP.\n",
      "\n",
      " 96%|█████████▋| 26/27 [00:00<?, ?trial/s, best loss=?]"
     ]
    },
    {
     "name": "stderr",
     "output_type": "stream",
     "text": [
      "/home/kam/.virtualenvs/dl4cv/lib/python3.7/site-packages/sklearn/metrics/_classification.py:1268: UndefinedMetricWarning: Precision and F-score are ill-defined and being set to 0.0 in labels with no predicted samples. Use `zero_division` parameter to control this behavior.\n",
      "  _warn_prf(average, modifier, msg_start, len(result))\n",
      "\n"
     ]
    },
    {
     "name": "stdout",
     "output_type": "stream",
     "text": [
      "100%|██████████| 27/27 [00:18<00:00,  1.48trial/s, best loss: -1.0]\n",
      "\n",
      "OPTIMIZATION STEP COMPLETE.\n",
      "\n",
      "Found saved Trials! Loading...\n",
      "Rerunning from 27 trials to add another one.\n",
      "\n",
      "STARTED OPTIMIZATION STEP.\n",
      "\n",
      "100%|██████████| 28/28 [00:18<00:00,  1.53trial/s, best loss: -1.0]\n",
      "\n",
      "OPTIMIZATION STEP COMPLETE.\n",
      "\n",
      "Found saved Trials! Loading...\n",
      "Rerunning from 28 trials to add another one.\n",
      "\n",
      "STARTED OPTIMIZATION STEP.\n",
      "\n",
      "100%|██████████| 29/29 [00:18<00:00,  1.59trial/s, best loss: -1.0]\n",
      "\n",
      "OPTIMIZATION STEP COMPLETE.\n",
      "\n",
      "Found saved Trials! Loading...\n",
      "Rerunning from 29 trials to add another one.\n",
      "\n",
      "STARTED OPTIMIZATION STEP.\n",
      "\n",
      "100%|██████████| 30/30 [00:18<00:00,  1.63trial/s, best loss: -1.0]\n",
      "\n",
      "OPTIMIZATION STEP COMPLETE.\n",
      "\n",
      "Found saved Trials! Loading...\n",
      "Rerunning from 30 trials to add another one.\n",
      "\n",
      "STARTED OPTIMIZATION STEP.\n",
      "\n",
      "100%|██████████| 31/31 [00:18<00:00,  1.70trial/s, best loss: -1.0]\n",
      "\n",
      "OPTIMIZATION STEP COMPLETE.\n",
      "\n",
      "Found saved Trials! Loading...\n",
      "Rerunning from 31 trials to add another one.\n",
      "\n",
      "STARTED OPTIMIZATION STEP.\n",
      "\n",
      "100%|██████████| 32/32 [00:18<00:00,  1.75trial/s, best loss: -1.0]\n",
      "\n",
      "OPTIMIZATION STEP COMPLETE.\n",
      "\n",
      "Found saved Trials! Loading...\n",
      "Rerunning from 32 trials to add another one.\n",
      "\n",
      "STARTED OPTIMIZATION STEP.\n",
      "\n",
      " 97%|█████████▋| 32/33 [00:00<?, ?trial/s, best loss=?]"
     ]
    },
    {
     "name": "stderr",
     "output_type": "stream",
     "text": [
      "/home/kam/.virtualenvs/dl4cv/lib/python3.7/site-packages/sklearn/metrics/_classification.py:1268: UndefinedMetricWarning: Precision and F-score are ill-defined and being set to 0.0 in labels with no predicted samples. Use `zero_division` parameter to control this behavior.\n",
      "  _warn_prf(average, modifier, msg_start, len(result))\n",
      "\n"
     ]
    },
    {
     "name": "stdout",
     "output_type": "stream",
     "text": [
      "100%|██████████| 33/33 [02:32<00:00,  4.61s/trial, best loss: -1.0] \n",
      "\n",
      "OPTIMIZATION STEP COMPLETE.\n",
      "\n",
      "Found saved Trials! Loading...\n",
      "Rerunning from 33 trials to add another one.\n",
      "\n",
      "STARTED OPTIMIZATION STEP.\n",
      "\n",
      " 97%|█████████▋| 33/34 [00:00<?, ?trial/s, best loss=?]"
     ]
    },
    {
     "name": "stderr",
     "output_type": "stream",
     "text": [
      "/home/kam/.virtualenvs/dl4cv/lib/python3.7/site-packages/sklearn/metrics/_classification.py:1268: UndefinedMetricWarning: Precision and F-score are ill-defined and being set to 0.0 in labels with no predicted samples. Use `zero_division` parameter to control this behavior.\n",
      "  _warn_prf(average, modifier, msg_start, len(result))\n",
      "\n"
     ]
    },
    {
     "name": "stdout",
     "output_type": "stream",
     "text": [
      "100%|██████████| 34/34 [02:35<00:00,  4.57s/trial, best loss: -1.0] \n",
      "\n",
      "OPTIMIZATION STEP COMPLETE.\n",
      "\n",
      "Found saved Trials! Loading...\n",
      "Rerunning from 34 trials to add another one.\n",
      "\n",
      "STARTED OPTIMIZATION STEP.\n",
      "\n",
      "100%|██████████| 35/35 [00:18<00:00,  1.91trial/s, best loss: -1.0]\n",
      "\n",
      "OPTIMIZATION STEP COMPLETE.\n",
      "\n",
      "Found saved Trials! Loading...\n",
      "Rerunning from 35 trials to add another one.\n",
      "\n",
      "STARTED OPTIMIZATION STEP.\n",
      "\n",
      "100%|██████████| 36/36 [00:18<00:00,  1.99trial/s, best loss: -1.0]\n",
      "\n",
      "OPTIMIZATION STEP COMPLETE.\n",
      "\n",
      "Found saved Trials! Loading...\n",
      "Rerunning from 36 trials to add another one.\n",
      "\n",
      "STARTED OPTIMIZATION STEP.\n",
      "\n",
      "100%|██████████| 37/37 [00:32<00:00,  1.12trial/s, best loss: -1.0]\n",
      "\n",
      "OPTIMIZATION STEP COMPLETE.\n",
      "\n",
      "Found saved Trials! Loading...\n",
      "Rerunning from 37 trials to add another one.\n",
      "\n",
      "STARTED OPTIMIZATION STEP.\n",
      "\n",
      "100%|██████████| 38/38 [00:18<00:00,  2.11trial/s, best loss: -1.0]\n",
      "\n",
      "OPTIMIZATION STEP COMPLETE.\n",
      "\n",
      "Found saved Trials! Loading...\n",
      "Rerunning from 38 trials to add another one.\n",
      "\n",
      "STARTED OPTIMIZATION STEP.\n",
      "\n",
      " 97%|█████████▋| 38/39 [00:00<?, ?trial/s, best loss=?]"
     ]
    },
    {
     "name": "stderr",
     "output_type": "stream",
     "text": [
      "/home/kam/.virtualenvs/dl4cv/lib/python3.7/site-packages/sklearn/metrics/_classification.py:1268: UndefinedMetricWarning: Precision and F-score are ill-defined and being set to 0.0 in labels with no predicted samples. Use `zero_division` parameter to control this behavior.\n",
      "  _warn_prf(average, modifier, msg_start, len(result))\n",
      "\n"
     ]
    },
    {
     "name": "stdout",
     "output_type": "stream",
     "text": [
      "100%|██████████| 39/39 [02:31<00:00,  3.87s/trial, best loss: -1.0] \n",
      "\n",
      "OPTIMIZATION STEP COMPLETE.\n",
      "\n",
      "Found saved Trials! Loading...\n",
      "Rerunning from 39 trials to add another one.\n",
      "\n",
      "STARTED OPTIMIZATION STEP.\n",
      "\n",
      "100%|██████████| 40/40 [00:17<00:00,  2.22trial/s, best loss: -1.0]\n",
      "\n",
      "OPTIMIZATION STEP COMPLETE.\n",
      "\n",
      "Found saved Trials! Loading...\n",
      "Rerunning from 40 trials to add another one.\n",
      "\n",
      "STARTED OPTIMIZATION STEP.\n",
      "\n",
      "100%|██████████| 41/41 [00:18<00:00,  2.28trial/s, best loss: -1.0]\n",
      "\n",
      "OPTIMIZATION STEP COMPLETE.\n",
      "\n",
      "Found saved Trials! Loading...\n",
      "Rerunning from 41 trials to add another one.\n",
      "\n",
      "STARTED OPTIMIZATION STEP.\n",
      "\n",
      "100%|██████████| 42/42 [00:32<00:00,  1.29trial/s, best loss: -1.0]\n",
      "\n",
      "OPTIMIZATION STEP COMPLETE.\n",
      "\n",
      "Found saved Trials! Loading...\n",
      "Rerunning from 42 trials to add another one.\n",
      "\n",
      "STARTED OPTIMIZATION STEP.\n",
      "\n",
      " 98%|█████████▊| 42/43 [00:00<?, ?trial/s, best loss=?]"
     ]
    },
    {
     "name": "stderr",
     "output_type": "stream",
     "text": [
      "/home/kam/.virtualenvs/dl4cv/lib/python3.7/site-packages/sklearn/metrics/_classification.py:1268: UndefinedMetricWarning: Precision and F-score are ill-defined and being set to 0.0 in labels with no predicted samples. Use `zero_division` parameter to control this behavior.\n",
      "  _warn_prf(average, modifier, msg_start, len(result))\n",
      "\n"
     ]
    },
    {
     "name": "stdout",
     "output_type": "stream",
     "text": [
      "100%|██████████| 43/43 [02:31<00:00,  3.52s/trial, best loss: -1.0] \n",
      "\n",
      "OPTIMIZATION STEP COMPLETE.\n",
      "\n",
      "Found saved Trials! Loading...\n",
      "Rerunning from 43 trials to add another one.\n",
      "\n",
      "STARTED OPTIMIZATION STEP.\n",
      "\n",
      "100%|██████████| 44/44 [00:18<00:00,  2.43trial/s, best loss: -1.0]\n",
      "\n",
      "OPTIMIZATION STEP COMPLETE.\n",
      "\n",
      "Found saved Trials! Loading...\n",
      "Rerunning from 44 trials to add another one.\n",
      "\n",
      "STARTED OPTIMIZATION STEP.\n",
      "\n",
      "100%|██████████| 45/45 [00:18<00:00,  2.48trial/s, best loss: -1.0]\n",
      "\n",
      "OPTIMIZATION STEP COMPLETE.\n",
      "\n",
      "Found saved Trials! Loading...\n",
      "Rerunning from 45 trials to add another one.\n",
      "\n",
      "STARTED OPTIMIZATION STEP.\n",
      "\n",
      "100%|██████████| 46/46 [00:18<00:00,  2.54trial/s, best loss: -1.0]\n",
      "\n",
      "OPTIMIZATION STEP COMPLETE.\n",
      "\n",
      "Found saved Trials! Loading...\n",
      "Rerunning from 46 trials to add another one.\n",
      "\n",
      "STARTED OPTIMIZATION STEP.\n",
      "\n",
      "100%|██████████| 47/47 [00:18<00:00,  2.57trial/s, best loss: -1.0]\n",
      "\n",
      "OPTIMIZATION STEP COMPLETE.\n",
      "\n",
      "Found saved Trials! Loading...\n",
      "Rerunning from 47 trials to add another one.\n",
      "\n",
      "STARTED OPTIMIZATION STEP.\n",
      "\n",
      "100%|██████████| 48/48 [00:18<00:00,  2.62trial/s, best loss: -1.0]\n",
      "\n",
      "OPTIMIZATION STEP COMPLETE.\n",
      "\n",
      "Found saved Trials! Loading...\n",
      "Rerunning from 48 trials to add another one.\n",
      "\n",
      "STARTED OPTIMIZATION STEP.\n",
      "\n",
      " 98%|█████████▊| 48/49 [00:10<00:00,  4.46trial/s, best loss=?]\n"
     ]
    },
    {
     "ename": "KeyboardInterrupt",
     "evalue": "",
     "output_type": "error",
     "traceback": [
      "\u001b[0;31m---------------------------------------------------------------------------\u001b[0m",
      "\u001b[0;31mKeyboardInterrupt\u001b[0m                         Traceback (most recent call last)",
      "\u001b[0;32m<ipython-input-6-fbf12ebca898>\u001b[0m in \u001b[0;36m<module>\u001b[0;34m\u001b[0m\n\u001b[1;32m      1\u001b[0m \u001b[0;32mwhile\u001b[0m \u001b[0;32mTrue\u001b[0m\u001b[0;34m:\u001b[0m\u001b[0;34m\u001b[0m\u001b[0;34m\u001b[0m\u001b[0m\n\u001b[1;32m      2\u001b[0m     \u001b[0;32mtry\u001b[0m\u001b[0;34m:\u001b[0m\u001b[0;34m\u001b[0m\u001b[0;34m\u001b[0m\u001b[0m\n\u001b[0;32m----> 3\u001b[0;31m         \u001b[0mrun_trial\u001b[0m\u001b[0;34m(\u001b[0m\u001b[0;34m)\u001b[0m\u001b[0;34m\u001b[0m\u001b[0;34m\u001b[0m\u001b[0m\n\u001b[0m\u001b[1;32m      4\u001b[0m     \u001b[0;32mexcept\u001b[0m \u001b[0mException\u001b[0m \u001b[0;32mas\u001b[0m \u001b[0merr\u001b[0m\u001b[0;34m:\u001b[0m\u001b[0;34m\u001b[0m\u001b[0;34m\u001b[0m\u001b[0m\n\u001b[1;32m      5\u001b[0m \u001b[0;34m\u001b[0m\u001b[0m\n",
      "\u001b[0;32m<ipython-input-5-6ed92dce0c09>\u001b[0m in \u001b[0;36mrun_trial\u001b[0;34m()\u001b[0m\n\u001b[1;32m     15\u001b[0m \u001b[0;34m\u001b[0m\u001b[0m\n\u001b[1;32m     16\u001b[0m     \u001b[0mprint\u001b[0m\u001b[0;34m(\u001b[0m\u001b[0;34m\"\\nSTARTED OPTIMIZATION STEP.\\n\"\u001b[0m\u001b[0;34m)\u001b[0m\u001b[0;34m\u001b[0m\u001b[0;34m\u001b[0m\u001b[0m\n\u001b[0;32m---> 17\u001b[0;31m     \u001b[0mbest\u001b[0m \u001b[0;34m=\u001b[0m \u001b[0mfmin\u001b[0m\u001b[0;34m(\u001b[0m\u001b[0mrun_svm\u001b[0m\u001b[0;34m,\u001b[0m \u001b[0mspace\u001b[0m\u001b[0;34m,\u001b[0m \u001b[0malgo\u001b[0m\u001b[0;34m=\u001b[0m\u001b[0mtpe\u001b[0m\u001b[0;34m.\u001b[0m\u001b[0msuggest\u001b[0m\u001b[0;34m,\u001b[0m \u001b[0mtrials\u001b[0m\u001b[0;34m=\u001b[0m\u001b[0mtrials\u001b[0m\u001b[0;34m,\u001b[0m \u001b[0mmax_evals\u001b[0m\u001b[0;34m=\u001b[0m\u001b[0mmax_evals\u001b[0m\u001b[0;34m)\u001b[0m\u001b[0;34m\u001b[0m\u001b[0;34m\u001b[0m\u001b[0m\n\u001b[0m\u001b[1;32m     18\u001b[0m \u001b[0;34m\u001b[0m\u001b[0m\n\u001b[1;32m     19\u001b[0m     \u001b[0mpickle\u001b[0m\u001b[0;34m.\u001b[0m\u001b[0mdump\u001b[0m\u001b[0;34m(\u001b[0m\u001b[0mtrials\u001b[0m\u001b[0;34m,\u001b[0m \u001b[0mopen\u001b[0m\u001b[0;34m(\u001b[0m\u001b[0;34m\"results.pkl\"\u001b[0m\u001b[0;34m,\u001b[0m \u001b[0;34m\"wb\"\u001b[0m\u001b[0;34m)\u001b[0m\u001b[0;34m)\u001b[0m\u001b[0;34m\u001b[0m\u001b[0;34m\u001b[0m\u001b[0m\n",
      "\u001b[0;32m~/.virtualenvs/dl4cv/lib/python3.7/site-packages/hyperopt/fmin.py\u001b[0m in \u001b[0;36mfmin\u001b[0;34m(fn, space, algo, max_evals, timeout, loss_threshold, trials, rstate, allow_trials_fmin, pass_expr_memo_ctrl, catch_eval_exceptions, verbose, return_argmin, points_to_evaluate, max_queue_len, show_progressbar)\u001b[0m\n\u001b[1;32m    480\u001b[0m             \u001b[0mcatch_eval_exceptions\u001b[0m\u001b[0;34m=\u001b[0m\u001b[0mcatch_eval_exceptions\u001b[0m\u001b[0;34m,\u001b[0m\u001b[0;34m\u001b[0m\u001b[0;34m\u001b[0m\u001b[0m\n\u001b[1;32m    481\u001b[0m             \u001b[0mreturn_argmin\u001b[0m\u001b[0;34m=\u001b[0m\u001b[0mreturn_argmin\u001b[0m\u001b[0;34m,\u001b[0m\u001b[0;34m\u001b[0m\u001b[0;34m\u001b[0m\u001b[0m\n\u001b[0;32m--> 482\u001b[0;31m             \u001b[0mshow_progressbar\u001b[0m\u001b[0;34m=\u001b[0m\u001b[0mshow_progressbar\u001b[0m\u001b[0;34m,\u001b[0m\u001b[0;34m\u001b[0m\u001b[0;34m\u001b[0m\u001b[0m\n\u001b[0m\u001b[1;32m    483\u001b[0m         )\n\u001b[1;32m    484\u001b[0m \u001b[0;34m\u001b[0m\u001b[0m\n",
      "\u001b[0;32m~/.virtualenvs/dl4cv/lib/python3.7/site-packages/hyperopt/base.py\u001b[0m in \u001b[0;36mfmin\u001b[0;34m(self, fn, space, algo, max_evals, timeout, loss_threshold, max_queue_len, rstate, verbose, pass_expr_memo_ctrl, catch_eval_exceptions, return_argmin, show_progressbar)\u001b[0m\n\u001b[1;32m    684\u001b[0m             \u001b[0mcatch_eval_exceptions\u001b[0m\u001b[0;34m=\u001b[0m\u001b[0mcatch_eval_exceptions\u001b[0m\u001b[0;34m,\u001b[0m\u001b[0;34m\u001b[0m\u001b[0;34m\u001b[0m\u001b[0m\n\u001b[1;32m    685\u001b[0m             \u001b[0mreturn_argmin\u001b[0m\u001b[0;34m=\u001b[0m\u001b[0mreturn_argmin\u001b[0m\u001b[0;34m,\u001b[0m\u001b[0;34m\u001b[0m\u001b[0;34m\u001b[0m\u001b[0m\n\u001b[0;32m--> 686\u001b[0;31m             \u001b[0mshow_progressbar\u001b[0m\u001b[0;34m=\u001b[0m\u001b[0mshow_progressbar\u001b[0m\u001b[0;34m,\u001b[0m\u001b[0;34m\u001b[0m\u001b[0;34m\u001b[0m\u001b[0m\n\u001b[0m\u001b[1;32m    687\u001b[0m         )\n\u001b[1;32m    688\u001b[0m \u001b[0;34m\u001b[0m\u001b[0m\n",
      "\u001b[0;32m~/.virtualenvs/dl4cv/lib/python3.7/site-packages/hyperopt/fmin.py\u001b[0m in \u001b[0;36mfmin\u001b[0;34m(fn, space, algo, max_evals, timeout, loss_threshold, trials, rstate, allow_trials_fmin, pass_expr_memo_ctrl, catch_eval_exceptions, verbose, return_argmin, points_to_evaluate, max_queue_len, show_progressbar)\u001b[0m\n\u001b[1;32m    507\u001b[0m \u001b[0;34m\u001b[0m\u001b[0m\n\u001b[1;32m    508\u001b[0m     \u001b[0;31m# next line is where the fmin is actually executed\u001b[0m\u001b[0;34m\u001b[0m\u001b[0;34m\u001b[0m\u001b[0;34m\u001b[0m\u001b[0m\n\u001b[0;32m--> 509\u001b[0;31m     \u001b[0mrval\u001b[0m\u001b[0;34m.\u001b[0m\u001b[0mexhaust\u001b[0m\u001b[0;34m(\u001b[0m\u001b[0;34m)\u001b[0m\u001b[0;34m\u001b[0m\u001b[0;34m\u001b[0m\u001b[0m\n\u001b[0m\u001b[1;32m    510\u001b[0m \u001b[0;34m\u001b[0m\u001b[0m\n\u001b[1;32m    511\u001b[0m     \u001b[0;32mif\u001b[0m \u001b[0mreturn_argmin\u001b[0m\u001b[0;34m:\u001b[0m\u001b[0;34m\u001b[0m\u001b[0;34m\u001b[0m\u001b[0m\n",
      "\u001b[0;32m~/.virtualenvs/dl4cv/lib/python3.7/site-packages/hyperopt/fmin.py\u001b[0m in \u001b[0;36mexhaust\u001b[0;34m(self)\u001b[0m\n\u001b[1;32m    328\u001b[0m     \u001b[0;32mdef\u001b[0m \u001b[0mexhaust\u001b[0m\u001b[0;34m(\u001b[0m\u001b[0mself\u001b[0m\u001b[0;34m)\u001b[0m\u001b[0;34m:\u001b[0m\u001b[0;34m\u001b[0m\u001b[0;34m\u001b[0m\u001b[0m\n\u001b[1;32m    329\u001b[0m         \u001b[0mn_done\u001b[0m \u001b[0;34m=\u001b[0m \u001b[0mlen\u001b[0m\u001b[0;34m(\u001b[0m\u001b[0mself\u001b[0m\u001b[0;34m.\u001b[0m\u001b[0mtrials\u001b[0m\u001b[0;34m)\u001b[0m\u001b[0;34m\u001b[0m\u001b[0;34m\u001b[0m\u001b[0m\n\u001b[0;32m--> 330\u001b[0;31m         \u001b[0mself\u001b[0m\u001b[0;34m.\u001b[0m\u001b[0mrun\u001b[0m\u001b[0;34m(\u001b[0m\u001b[0mself\u001b[0m\u001b[0;34m.\u001b[0m\u001b[0mmax_evals\u001b[0m \u001b[0;34m-\u001b[0m \u001b[0mn_done\u001b[0m\u001b[0;34m,\u001b[0m \u001b[0mblock_until_done\u001b[0m\u001b[0;34m=\u001b[0m\u001b[0mself\u001b[0m\u001b[0;34m.\u001b[0m\u001b[0masynchronous\u001b[0m\u001b[0;34m)\u001b[0m\u001b[0;34m\u001b[0m\u001b[0;34m\u001b[0m\u001b[0m\n\u001b[0m\u001b[1;32m    331\u001b[0m         \u001b[0mself\u001b[0m\u001b[0;34m.\u001b[0m\u001b[0mtrials\u001b[0m\u001b[0;34m.\u001b[0m\u001b[0mrefresh\u001b[0m\u001b[0;34m(\u001b[0m\u001b[0;34m)\u001b[0m\u001b[0;34m\u001b[0m\u001b[0;34m\u001b[0m\u001b[0m\n\u001b[1;32m    332\u001b[0m         \u001b[0;32mreturn\u001b[0m \u001b[0mself\u001b[0m\u001b[0;34m\u001b[0m\u001b[0;34m\u001b[0m\u001b[0m\n",
      "\u001b[0;32m~/.virtualenvs/dl4cv/lib/python3.7/site-packages/hyperopt/fmin.py\u001b[0m in \u001b[0;36mrun\u001b[0;34m(self, N, block_until_done)\u001b[0m\n\u001b[1;32m    284\u001b[0m                 \u001b[0;32melse\u001b[0m\u001b[0;34m:\u001b[0m\u001b[0;34m\u001b[0m\u001b[0;34m\u001b[0m\u001b[0m\n\u001b[1;32m    285\u001b[0m                     \u001b[0;31m# -- loop over trials and do the jobs directly\u001b[0m\u001b[0;34m\u001b[0m\u001b[0;34m\u001b[0m\u001b[0;34m\u001b[0m\u001b[0m\n\u001b[0;32m--> 286\u001b[0;31m                     \u001b[0mself\u001b[0m\u001b[0;34m.\u001b[0m\u001b[0mserial_evaluate\u001b[0m\u001b[0;34m(\u001b[0m\u001b[0;34m)\u001b[0m\u001b[0;34m\u001b[0m\u001b[0;34m\u001b[0m\u001b[0m\n\u001b[0m\u001b[1;32m    287\u001b[0m \u001b[0;34m\u001b[0m\u001b[0m\n\u001b[1;32m    288\u001b[0m                 \u001b[0mself\u001b[0m\u001b[0;34m.\u001b[0m\u001b[0mtrials\u001b[0m\u001b[0;34m.\u001b[0m\u001b[0mrefresh\u001b[0m\u001b[0;34m(\u001b[0m\u001b[0;34m)\u001b[0m\u001b[0;34m\u001b[0m\u001b[0;34m\u001b[0m\u001b[0m\n",
      "\u001b[0;32m~/.virtualenvs/dl4cv/lib/python3.7/site-packages/hyperopt/fmin.py\u001b[0m in \u001b[0;36mserial_evaluate\u001b[0;34m(self, N)\u001b[0m\n\u001b[1;32m    163\u001b[0m                 \u001b[0mctrl\u001b[0m \u001b[0;34m=\u001b[0m \u001b[0mbase\u001b[0m\u001b[0;34m.\u001b[0m\u001b[0mCtrl\u001b[0m\u001b[0;34m(\u001b[0m\u001b[0mself\u001b[0m\u001b[0;34m.\u001b[0m\u001b[0mtrials\u001b[0m\u001b[0;34m,\u001b[0m \u001b[0mcurrent_trial\u001b[0m\u001b[0;34m=\u001b[0m\u001b[0mtrial\u001b[0m\u001b[0;34m)\u001b[0m\u001b[0;34m\u001b[0m\u001b[0;34m\u001b[0m\u001b[0m\n\u001b[1;32m    164\u001b[0m                 \u001b[0;32mtry\u001b[0m\u001b[0;34m:\u001b[0m\u001b[0;34m\u001b[0m\u001b[0;34m\u001b[0m\u001b[0m\n\u001b[0;32m--> 165\u001b[0;31m                     \u001b[0mresult\u001b[0m \u001b[0;34m=\u001b[0m \u001b[0mself\u001b[0m\u001b[0;34m.\u001b[0m\u001b[0mdomain\u001b[0m\u001b[0;34m.\u001b[0m\u001b[0mevaluate\u001b[0m\u001b[0;34m(\u001b[0m\u001b[0mspec\u001b[0m\u001b[0;34m,\u001b[0m \u001b[0mctrl\u001b[0m\u001b[0;34m)\u001b[0m\u001b[0;34m\u001b[0m\u001b[0;34m\u001b[0m\u001b[0m\n\u001b[0m\u001b[1;32m    166\u001b[0m                 \u001b[0;32mexcept\u001b[0m \u001b[0mException\u001b[0m \u001b[0;32mas\u001b[0m \u001b[0me\u001b[0m\u001b[0;34m:\u001b[0m\u001b[0;34m\u001b[0m\u001b[0;34m\u001b[0m\u001b[0m\n\u001b[1;32m    167\u001b[0m                     \u001b[0mlogger\u001b[0m\u001b[0;34m.\u001b[0m\u001b[0merror\u001b[0m\u001b[0;34m(\u001b[0m\u001b[0;34m\"job exception: %s\"\u001b[0m \u001b[0;34m%\u001b[0m \u001b[0mstr\u001b[0m\u001b[0;34m(\u001b[0m\u001b[0me\u001b[0m\u001b[0;34m)\u001b[0m\u001b[0;34m)\u001b[0m\u001b[0;34m\u001b[0m\u001b[0;34m\u001b[0m\u001b[0m\n",
      "\u001b[0;32m~/.virtualenvs/dl4cv/lib/python3.7/site-packages/hyperopt/base.py\u001b[0m in \u001b[0;36mevaluate\u001b[0;34m(self, config, ctrl, attach_attachments)\u001b[0m\n\u001b[1;32m    892\u001b[0m                 \u001b[0mprint_node_on_error\u001b[0m\u001b[0;34m=\u001b[0m\u001b[0mself\u001b[0m\u001b[0;34m.\u001b[0m\u001b[0mrec_eval_print_node_on_error\u001b[0m\u001b[0;34m,\u001b[0m\u001b[0;34m\u001b[0m\u001b[0;34m\u001b[0m\u001b[0m\n\u001b[1;32m    893\u001b[0m             )\n\u001b[0;32m--> 894\u001b[0;31m             \u001b[0mrval\u001b[0m \u001b[0;34m=\u001b[0m \u001b[0mself\u001b[0m\u001b[0;34m.\u001b[0m\u001b[0mfn\u001b[0m\u001b[0;34m(\u001b[0m\u001b[0mpyll_rval\u001b[0m\u001b[0;34m)\u001b[0m\u001b[0;34m\u001b[0m\u001b[0;34m\u001b[0m\u001b[0m\n\u001b[0m\u001b[1;32m    895\u001b[0m \u001b[0;34m\u001b[0m\u001b[0m\n\u001b[1;32m    896\u001b[0m         \u001b[0;32mif\u001b[0m \u001b[0misinstance\u001b[0m\u001b[0;34m(\u001b[0m\u001b[0mrval\u001b[0m\u001b[0;34m,\u001b[0m \u001b[0;34m(\u001b[0m\u001b[0mfloat\u001b[0m\u001b[0;34m,\u001b[0m \u001b[0mint\u001b[0m\u001b[0;34m,\u001b[0m \u001b[0mnp\u001b[0m\u001b[0;34m.\u001b[0m\u001b[0mnumber\u001b[0m\u001b[0;34m)\u001b[0m\u001b[0;34m)\u001b[0m\u001b[0;34m:\u001b[0m\u001b[0;34m\u001b[0m\u001b[0;34m\u001b[0m\u001b[0m\n",
      "\u001b[0;32m~/Data Mining/Project/SVM/hyperopt_svm.py\u001b[0m in \u001b[0;36mrun_svm\u001b[0;34m(args)\u001b[0m\n\u001b[1;32m     31\u001b[0m \u001b[0;34m\u001b[0m\u001b[0m\n\u001b[1;32m     32\u001b[0m     \u001b[0msvc\u001b[0m \u001b[0;34m=\u001b[0m \u001b[0mSVC\u001b[0m\u001b[0;34m(\u001b[0m\u001b[0mC\u001b[0m\u001b[0;34m=\u001b[0m\u001b[0mC\u001b[0m\u001b[0;34m,\u001b[0m \u001b[0mkernel\u001b[0m\u001b[0;34m=\u001b[0m\u001b[0mkernel\u001b[0m\u001b[0;34m,\u001b[0m \u001b[0mdegree\u001b[0m\u001b[0;34m=\u001b[0m\u001b[0mdegree\u001b[0m\u001b[0;34m,\u001b[0m \u001b[0mgamma\u001b[0m\u001b[0;34m=\u001b[0m\u001b[0mgamma\u001b[0m\u001b[0;34m)\u001b[0m\u001b[0;34m\u001b[0m\u001b[0;34m\u001b[0m\u001b[0m\n\u001b[0;32m---> 33\u001b[0;31m     \u001b[0msvc\u001b[0m\u001b[0;34m.\u001b[0m\u001b[0mfit\u001b[0m\u001b[0;34m(\u001b[0m\u001b[0mx_train\u001b[0m\u001b[0;34m,\u001b[0m \u001b[0my_train\u001b[0m\u001b[0;34m)\u001b[0m\u001b[0;34m\u001b[0m\u001b[0;34m\u001b[0m\u001b[0m\n\u001b[0m\u001b[1;32m     34\u001b[0m \u001b[0;34m\u001b[0m\u001b[0m\n\u001b[1;32m     35\u001b[0m     \u001b[0my_pred\u001b[0m \u001b[0;34m=\u001b[0m \u001b[0msvc\u001b[0m\u001b[0;34m.\u001b[0m\u001b[0mpredict\u001b[0m\u001b[0;34m(\u001b[0m\u001b[0mx_test\u001b[0m\u001b[0;34m)\u001b[0m\u001b[0;34m\u001b[0m\u001b[0;34m\u001b[0m\u001b[0m\n",
      "\u001b[0;32m~/.virtualenvs/dl4cv/lib/python3.7/site-packages/sklearn/svm/_base.py\u001b[0m in \u001b[0;36mfit\u001b[0;34m(self, X, y, sample_weight)\u001b[0m\n\u001b[1;32m    197\u001b[0m \u001b[0;34m\u001b[0m\u001b[0m\n\u001b[1;32m    198\u001b[0m         \u001b[0mseed\u001b[0m \u001b[0;34m=\u001b[0m \u001b[0mrnd\u001b[0m\u001b[0;34m.\u001b[0m\u001b[0mrandint\u001b[0m\u001b[0;34m(\u001b[0m\u001b[0mnp\u001b[0m\u001b[0;34m.\u001b[0m\u001b[0miinfo\u001b[0m\u001b[0;34m(\u001b[0m\u001b[0;34m'i'\u001b[0m\u001b[0;34m)\u001b[0m\u001b[0;34m.\u001b[0m\u001b[0mmax\u001b[0m\u001b[0;34m)\u001b[0m\u001b[0;34m\u001b[0m\u001b[0;34m\u001b[0m\u001b[0m\n\u001b[0;32m--> 199\u001b[0;31m         \u001b[0mfit\u001b[0m\u001b[0;34m(\u001b[0m\u001b[0mX\u001b[0m\u001b[0;34m,\u001b[0m \u001b[0my\u001b[0m\u001b[0;34m,\u001b[0m \u001b[0msample_weight\u001b[0m\u001b[0;34m,\u001b[0m \u001b[0msolver_type\u001b[0m\u001b[0;34m,\u001b[0m \u001b[0mkernel\u001b[0m\u001b[0;34m,\u001b[0m \u001b[0mrandom_seed\u001b[0m\u001b[0;34m=\u001b[0m\u001b[0mseed\u001b[0m\u001b[0;34m)\u001b[0m\u001b[0;34m\u001b[0m\u001b[0;34m\u001b[0m\u001b[0m\n\u001b[0m\u001b[1;32m    200\u001b[0m         \u001b[0;31m# see comment on the other call to np.iinfo in this file\u001b[0m\u001b[0;34m\u001b[0m\u001b[0;34m\u001b[0m\u001b[0;34m\u001b[0m\u001b[0m\n\u001b[1;32m    201\u001b[0m \u001b[0;34m\u001b[0m\u001b[0m\n",
      "\u001b[0;32m~/.virtualenvs/dl4cv/lib/python3.7/site-packages/sklearn/svm/_base.py\u001b[0m in \u001b[0;36m_dense_fit\u001b[0;34m(self, X, y, sample_weight, solver_type, kernel, random_seed)\u001b[0m\n\u001b[1;32m    256\u001b[0m                 \u001b[0mcache_size\u001b[0m\u001b[0;34m=\u001b[0m\u001b[0mself\u001b[0m\u001b[0;34m.\u001b[0m\u001b[0mcache_size\u001b[0m\u001b[0;34m,\u001b[0m \u001b[0mcoef0\u001b[0m\u001b[0;34m=\u001b[0m\u001b[0mself\u001b[0m\u001b[0;34m.\u001b[0m\u001b[0mcoef0\u001b[0m\u001b[0;34m,\u001b[0m\u001b[0;34m\u001b[0m\u001b[0;34m\u001b[0m\u001b[0m\n\u001b[1;32m    257\u001b[0m                 \u001b[0mgamma\u001b[0m\u001b[0;34m=\u001b[0m\u001b[0mself\u001b[0m\u001b[0;34m.\u001b[0m\u001b[0m_gamma\u001b[0m\u001b[0;34m,\u001b[0m \u001b[0mepsilon\u001b[0m\u001b[0;34m=\u001b[0m\u001b[0mself\u001b[0m\u001b[0;34m.\u001b[0m\u001b[0mepsilon\u001b[0m\u001b[0;34m,\u001b[0m\u001b[0;34m\u001b[0m\u001b[0;34m\u001b[0m\u001b[0m\n\u001b[0;32m--> 258\u001b[0;31m                 max_iter=self.max_iter, random_seed=random_seed)\n\u001b[0m\u001b[1;32m    259\u001b[0m \u001b[0;34m\u001b[0m\u001b[0m\n\u001b[1;32m    260\u001b[0m         \u001b[0mself\u001b[0m\u001b[0;34m.\u001b[0m\u001b[0m_warn_from_fit_status\u001b[0m\u001b[0;34m(\u001b[0m\u001b[0;34m)\u001b[0m\u001b[0;34m\u001b[0m\u001b[0;34m\u001b[0m\u001b[0m\n",
      "\u001b[0;31mKeyboardInterrupt\u001b[0m: "
     ]
    }
   ],
   "source": [
    "while True:\n",
    "    try:\n",
    "        run_trial()\n",
    "    except Exception as err:\n",
    "\n",
    "        print(str(err))\n",
    "        print(str(traceback.format_exc()))\n",
    "        break;"
   ]
  },
  {
   "cell_type": "code",
   "execution_count": 12,
   "metadata": {},
   "outputs": [],
   "source": [
    "results = pickle.load(open('results.pkl', 'rb'))\n",
    "alpha_results = []\n",
    "beta_results = []\n",
    "gamma_results = []\n",
    "\n",
    "for result in results:\n",
    "    if result['result']['space']['band'] == 'alpha':\n",
    "        alpha_results.append(result['result'])\n",
    "    elif result['result']['space']['band'] == 'beta':\n",
    "        beta_results.append(result['result'])\n",
    "        \n",
    "    else:\n",
    "        gamma_results.append(result['result'])"
   ]
  },
  {
   "cell_type": "code",
   "execution_count": 60,
   "metadata": {},
   "outputs": [],
   "source": [
    "def viz_cfm(cfm, title):\n",
    "    plt.figure(figsize=(10,10))\n",
    "    plt.title(title)\n",
    "    labels = ['tk{}_state{}'.format(tk,state) for tk, state in [(1,4),(1,5),(3,4),(3,5)]]\n",
    "    sns.heatmap(cfm, annot=True, fmt='g', cmap=cm.Blues,  cbar=False)\n",
    "    plt.xlabel('Predicted labels');\n",
    "    plt.ylabel('True labels')\n",
    "    plt.xticks(ticks=[0.5, 1.5, 2.5, 3.5], labels = labels)\n",
    "    plt.yticks(ticks=[0.5, 1.5, 2.5, 3.5], labels=labels)"
   ]
  },
  {
   "cell_type": "code",
   "execution_count": 61,
   "metadata": {},
   "outputs": [
    {
     "data": {
      "image/png": "[encoded data removed]",
      "text/plain": [
       "<Figure size 720x720 with 1 Axes>"
      ]
     },
     "metadata": {},
     "output_type": "display_data"
    }
   ],
   "source": [
    "alpha_losses = []\n",
    "alpha_cfms = []\n",
    "\n",
    "for result in alpha_results:\n",
    "    alpha_losses.append(-result['loss'])\n",
    "    alpha_cfms.append(result['cfm'])\n",
    "    \n",
    "alpha_cfms = np.array(alpha_cfms)\n",
    "\n",
    "mean_alpha_cfm = np.mean(alpha_cfms, axis=0)\n",
    "\n",
    "# mean_alpha_cfm = (mean_alpha_cfm - mean_alpha_cfm.min()) / (mean_alpha_cfm.max() - mean_alpha_cfm.min())\n",
    "viz_cfm(np.round(mean_alpha_cfm), 'ovr cfm alpha-connectivity')"
   ]
  },
  {
   "cell_type": "code",
   "execution_count": 62,
   "metadata": {},
   "outputs": [
    {
     "data": {
      "image/png": "[encoded data removed]",
      "text/plain": [
       "<Figure size 720x720 with 1 Axes>"
      ]
     },
     "metadata": {},
     "output_type": "display_data"
    }
   ],
   "source": [
    "beta_losses = []\n",
    "beta_cfms = []\n",
    "\n",
    "for result in beta_results:\n",
    "    beta_losses.append(-result['loss'])\n",
    "    beta_cfms.append(result['cfm'])\n",
    "    \n",
    "beta_cfms = np.array(beta_cfms)\n",
    "\n",
    "mean_beta_cfm = np.mean(beta_cfms, axis=0)\n",
    "\n",
    "# mean_beta_cfm = (mean_beta_cfm - mean_beta_cfm.min()) / (mean_beta_cfm.max() - mean_beta_cfm.min())\n",
    "viz_cfm(np.round(mean_beta_cfm), 'ovr cfm beta-connectivity')"
   ]
  },
  {
   "cell_type": "code",
   "execution_count": 63,
   "metadata": {},
   "outputs": [
    {
     "data": {
      "image/png": "[encoded data removed]",
      "text/plain": [
       "<Figure size 720x720 with 1 Axes>"
      ]
     },
     "metadata": {},
     "output_type": "display_data"
    }
   ],
   "source": [
    "gamma_losses = []\n",
    "gamma_cfms = []\n",
    "\n",
    "for result in gamma_results:\n",
    "    gamma_losses.append(-result['loss'])\n",
    "    gamma_cfms.append(result['cfm'])\n",
    "    \n",
    "gamma_cfms = np.array(gamma_cfms)\n",
    "\n",
    "mean_gamma_cfm = np.mean(gamma_cfms, axis=0)\n",
    "\n",
    "# mean_gamma_cfm = (mean_gamma_cfm - mean_gamma_cfm.min()) / (mean_gamma_cfm.max() - mean_gamma_cfm.min())\n",
    "viz_cfm(np.round(mean_gamma_cfm), 'ovr cfm gamma-connectivity')"
   ]
  },
  {
   "cell_type": "code",
   "execution_count": 75,
   "metadata": {},
   "outputs": [
    {
     "data": {
      "text/plain": [
       "Text(0, 0.5, 'Avg. Accuracy')"
      ]
     },
     "execution_count": 75,
     "metadata": {},
     "output_type": "execute_result"
    },
    {
     "data": {
      "image/png": "[encoded data removed]",
      "text/plain": [
       "<Figure size 432x288 with 1 Axes>"
      ]
     },
     "metadata": {},
     "output_type": "display_data"
    }
   ],
   "source": [
    "\n",
    "alpha_mean_loss = np.mean(alpha_losses)\n",
    "beta_mean_loss = np.mean(beta_losses)\n",
    "gamma_mean_loss = np.mean(gamma_losses)\n",
    "\n",
    "plt.bar(['alpha', 'beta', 'gamma'], [alpha_mean_loss, beta_mean_loss, gamma_mean_loss], 0.5, color=['r', 'g', 'b'])\n",
    "plt.ylabel('Avg. Accuracy')"
   ]
  },
  {
   "cell_type": "code",
   "execution_count": 164,
   "metadata": {},
   "outputs": [],
   "source": [
    "band_losses = []\n",
    "for trial in results.trials:\n",
    "    if trial['result']['status'] == 'ok':\n",
    "        if trial['result']['space']['band'] == 'alpha':\n",
    "            band_losses.append((0, -trial['result']['loss']))\n",
    "        elif trial['result']['space']['band'] == 'beta':\n",
    "            band_losses.append((1, -trial['result']['loss']))\n",
    "        else:\n",
    "            band_losses.append((2, -trial['result']['loss']))"
   ]
  },
  {
   "cell_type": "code",
   "execution_count": 166,
   "metadata": {},
   "outputs": [
    {
     "data": {
      "image/png": "[encoded data removed]",
      "text/plain": [
       "<Figure size 432x288 with 1 Axes>"
      ]
     },
     "metadata": {},
     "output_type": "display_data"
    }
   ],
   "source": [
    "band_losses = np.array(band_losses)\n",
    "df = pd.DataFrame(band_losses, columns=['bands', 'acc'])\n",
    "pivot = df.pivot(columns='bands', values='acc').fillna(-np.mean(results.losses()))\n",
    "\n",
    "plt.boxplot(pivot.values)\n",
    "plt.xticks([1,2,3], ['alpha', 'beta', 'gamma'])\n",
    "plt.ylabel('Test Accuracy')\n",
    "plt.show()\n",
    "\n",
    "\n",
    "# plt.show()"
   ]
  },
  {
   "cell_type": "code",
   "execution_count": 139,
   "metadata": {},
   "outputs": [
    {
     "data": {
      "text/plain": [
       "<matplotlib.axes._subplots.AxesSubplot at 0x7f51744e77d0>"
      ]
     },
     "execution_count": 139,
     "metadata": {},
     "output_type": "execute_result"
    },
    {
     "data": {
      "image/png": "[encoded data removed]",
      "text/plain": [
       "<Figure size 432x288 with 1 Axes>"
      ]
     },
     "metadata": {},
     "output_type": "display_data"
    }
   ],
   "source": [
    "melt.boxplot()"
   ]
  },
  {
   "cell_type": "code",
   "execution_count": 132,
   "metadata": {},
   "outputs": [
    {
     "data": {
      "text/plain": [
       "array([0.69848485, 0.70858586, 0.72777778, 0.24191919, 1.        ,\n",
       "       0.92020202, 1.        , 0.24191919, 1.        , 1.        ,\n",
       "       1.        ])"
      ]
     },
     "execution_count": 132,
     "metadata": {},
     "output_type": "execute_result"
    }
   ],
   "source": [
    "band_losses[band_losses[:,0] == 0][:,1]"
   ]
  }
 ],
 "metadata": {
  "kernelspec": {
   "display_name": "Python 3",
   "language": "python",
   "name": "python3"
  },
  "language_info": {
   "codemirror_mode": {
    "name": "ipython",
    "version": 3
   },
   "file_extension": ".py",
   "mimetype": "text/x-python",
   "name": "python",
   "nbconvert_exporter": "python",
   "pygments_lexer": "ipython3",
   "version": "3.7.4"
  }
 },
 "nbformat": 4,
 "nbformat_minor": 2
}
