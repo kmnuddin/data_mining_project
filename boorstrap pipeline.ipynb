{
 "cells": [
  {
   "cell_type": "code",
   "execution_count": 1,
   "metadata": {},
   "outputs": [],
   "source": [
    "import mne\n",
    "from MNE_Pipeline import MNE_Repo_Mat as MP\n",
    "from MNE_Pipeline_ext import MNE_Repo_Mat_ext as MP_bootstrap\n",
    "import pickle\n",
    "import numpy as np\n",
    "import pandas as pd\n",
    "import os\n",
    "from tqdm.notebook import tqdm "
   ]
  },
  {
   "cell_type": "code",
   "execution_count": 2,
   "metadata": {},
   "outputs": [
    {
     "name": "stderr",
     "output_type": "stream",
     "text": [
      "/home/kam/anaconda3/envs/mne/lib/python3.7/site-packages/mne/utils/docs.py:830: DeprecationWarning: Function read_montage is deprecated; ``read_montage`` is deprecated and will be removed in v0.20. Please use ``read_dig_fif``, ``read_dig_egi``, ``read_custom_montage``, or ``read_dig_captrack`` to read a digitization based on your needs instead; or ``make_standard_montage`` to create ``DigMontage`` based on template; or ``make_dig_montage`` to create a ``DigMontage`` out of np.arrays\n",
      "  warnings.warn(msg, category=DeprecationWarning)\n",
      "/home/kam/anaconda3/envs/mne/lib/python3.7/site-packages/mne/utils/docs.py:813: DeprecationWarning: Class Montage is deprecated; Montage class is deprecated and will be removed in v0.20. Please use DigMontage instead.\n",
      "  warnings.warn(msg, category=DeprecationWarning)\n",
      "/home/kam/Data Mining/Project/MNE_Pipeline.py:57: DeprecationWarning: Setting a montage using anything rather than DigMontage is deprecated and will raise an error in v0.20. Please use ``read_dig_fif``, ``read_dig_egi``, ``read_dig_polhemus_isotrak``, or ``read_dig_captrack`` ``read_dig_hpts``, ``read_dig_captrack`` or ``read_custom_montage`` to read a digitization based on your needs instead; or ``make_standard_montage`` to create ``DigMontage`` based on template; or ``make_dig_montage`` to create a ``DigMontage`` out of np.arrays.\n",
      "  self.info = mne.create_info(montage.ch_names, sfreq, ch_types='eeg', montage=montage)\n"
     ]
    }
   ],
   "source": [
    "mp = MP()\n",
    "mp_ext = MP_bootstrap()\n",
    "info = mp.construct_info()\n",
    "\n",
    "subjects = sorted([os.path.splitext(file)[0] for file in os.listdir('Data/') if file.endswith('.mat')])\n",
    "subjects_path = sorted(['Data/{}'.format(file) for file in os.listdir('Data/') if file.endswith('.mat')])\n",
    "subject_epoch_paths = [os.path.join('epochs', subject + '_epoch' + '.fif') for subject in subjects]"
   ]
  },
  {
   "cell_type": "code",
   "execution_count": 9,
   "metadata": {},
   "outputs": [
    {
     "data": {
      "application/vnd.jupyter.widget-view+json": {
       "model_id": "6bab1dbcfbf44585ae0b427cbd5a861e",
       "version_major": 2,
       "version_minor": 0
      },
      "text/plain": [
       "HBox(children=(FloatProgress(value=1.0, bar_style='info', max=1.0), HTML(value='')))"
      ]
     },
     "metadata": {},
     "output_type": "display_data"
    },
    {
     "name": "stderr",
     "output_type": "stream",
     "text": [
      "/home/kam/Data Mining/Project/MNE_Pipeline.py:83: RuntimeWarning: This filename (epochs/N1_epoch.fif) does not conform to MNE naming conventions. All epochs files should end with -epo.fif, -epo.fif.gz, _epo.fif or _epo.fif.gz\n",
      "  self.epochs = mne.read_epochs(path, verbose=0)\n"
     ]
    },
    {
     "name": "stdout",
     "output_type": "stream",
     "text": [
      "Starting for N1_1\n",
      "Starting for N1_2\n",
      "Starting for N1_3\n",
      "Starting for N1_4\n",
      "Starting for N1_5\n"
     ]
    },
    {
     "name": "stderr",
     "output_type": "stream",
     "text": [
      "/home/kam/Data Mining/Project/MNE_Pipeline.py:83: RuntimeWarning: This filename (epochs/N10_epoch.fif) does not conform to MNE naming conventions. All epochs files should end with -epo.fif, -epo.fif.gz, _epo.fif or _epo.fif.gz\n",
      "  self.epochs = mne.read_epochs(path, verbose=0)\n"
     ]
    },
    {
     "name": "stdout",
     "output_type": "stream",
     "text": [
      "Starting for N10_1\n",
      "Starting for N10_2\n",
      "Starting for N10_3\n",
      "Starting for N10_4\n",
      "Starting for N10_5\n"
     ]
    },
    {
     "name": "stderr",
     "output_type": "stream",
     "text": [
      "/home/kam/Data Mining/Project/MNE_Pipeline.py:83: RuntimeWarning: This filename (epochs/N11_epoch.fif) does not conform to MNE naming conventions. All epochs files should end with -epo.fif, -epo.fif.gz, _epo.fif or _epo.fif.gz\n",
      "  self.epochs = mne.read_epochs(path, verbose=0)\n"
     ]
    },
    {
     "name": "stdout",
     "output_type": "stream",
     "text": [
      "Starting for N11_1\n",
      "Starting for N11_2\n",
      "Starting for N11_3\n",
      "Starting for N11_4\n",
      "Starting for N11_5\n"
     ]
    },
    {
     "name": "stderr",
     "output_type": "stream",
     "text": [
      "/home/kam/Data Mining/Project/MNE_Pipeline.py:83: RuntimeWarning: This filename (epochs/N12_epoch.fif) does not conform to MNE naming conventions. All epochs files should end with -epo.fif, -epo.fif.gz, _epo.fif or _epo.fif.gz\n",
      "  self.epochs = mne.read_epochs(path, verbose=0)\n"
     ]
    },
    {
     "name": "stdout",
     "output_type": "stream",
     "text": [
      "Starting for N12_1\n",
      "Starting for N12_2\n",
      "Starting for N12_3\n",
      "Starting for N12_4\n",
      "Starting for N12_5\n"
     ]
    },
    {
     "name": "stderr",
     "output_type": "stream",
     "text": [
      "/home/kam/Data Mining/Project/MNE_Pipeline.py:83: RuntimeWarning: This filename (epochs/N13_epoch.fif) does not conform to MNE naming conventions. All epochs files should end with -epo.fif, -epo.fif.gz, _epo.fif or _epo.fif.gz\n",
      "  self.epochs = mne.read_epochs(path, verbose=0)\n"
     ]
    },
    {
     "name": "stdout",
     "output_type": "stream",
     "text": [
      "Starting for N13_1\n",
      "Starting for N13_2\n",
      "Starting for N13_3\n",
      "Starting for N13_4\n",
      "Starting for N13_5\n"
     ]
    },
    {
     "name": "stderr",
     "output_type": "stream",
     "text": [
      "/home/kam/Data Mining/Project/MNE_Pipeline.py:83: RuntimeWarning: This filename (epochs/N14_epoch.fif) does not conform to MNE naming conventions. All epochs files should end with -epo.fif, -epo.fif.gz, _epo.fif or _epo.fif.gz\n",
      "  self.epochs = mne.read_epochs(path, verbose=0)\n"
     ]
    },
    {
     "name": "stdout",
     "output_type": "stream",
     "text": [
      "Starting for N14_1\n",
      "Starting for N14_2\n",
      "Starting for N14_3\n",
      "Starting for N14_4\n",
      "Starting for N14_5\n"
     ]
    },
    {
     "name": "stderr",
     "output_type": "stream",
     "text": [
      "/home/kam/Data Mining/Project/MNE_Pipeline.py:83: RuntimeWarning: This filename (epochs/N15_epoch.fif) does not conform to MNE naming conventions. All epochs files should end with -epo.fif, -epo.fif.gz, _epo.fif or _epo.fif.gz\n",
      "  self.epochs = mne.read_epochs(path, verbose=0)\n"
     ]
    },
    {
     "name": "stdout",
     "output_type": "stream",
     "text": [
      "Starting for N15_1\n",
      "Starting for N15_2\n",
      "Starting for N15_3\n",
      "Starting for N15_4\n",
      "Starting for N15_5\n"
     ]
    },
    {
     "name": "stderr",
     "output_type": "stream",
     "text": [
      "/home/kam/Data Mining/Project/MNE_Pipeline.py:83: RuntimeWarning: This filename (epochs/N2_epoch.fif) does not conform to MNE naming conventions. All epochs files should end with -epo.fif, -epo.fif.gz, _epo.fif or _epo.fif.gz\n",
      "  self.epochs = mne.read_epochs(path, verbose=0)\n"
     ]
    },
    {
     "name": "stdout",
     "output_type": "stream",
     "text": [
      "Starting for N2_1\n",
      "Starting for N2_2\n",
      "Starting for N2_3\n",
      "Starting for N2_4\n",
      "Starting for N2_5\n"
     ]
    },
    {
     "name": "stderr",
     "output_type": "stream",
     "text": [
      "/home/kam/Data Mining/Project/MNE_Pipeline.py:83: RuntimeWarning: This filename (epochs/N3_epoch.fif) does not conform to MNE naming conventions. All epochs files should end with -epo.fif, -epo.fif.gz, _epo.fif or _epo.fif.gz\n",
      "  self.epochs = mne.read_epochs(path, verbose=0)\n"
     ]
    },
    {
     "name": "stdout",
     "output_type": "stream",
     "text": [
      "Starting for N3_1\n",
      "Starting for N3_2\n",
      "Starting for N3_3\n",
      "Starting for N3_4\n",
      "Starting for N3_5\n"
     ]
    },
    {
     "name": "stderr",
     "output_type": "stream",
     "text": [
      "/home/kam/Data Mining/Project/MNE_Pipeline.py:83: RuntimeWarning: This filename (epochs/N4_epoch.fif) does not conform to MNE naming conventions. All epochs files should end with -epo.fif, -epo.fif.gz, _epo.fif or _epo.fif.gz\n",
      "  self.epochs = mne.read_epochs(path, verbose=0)\n"
     ]
    },
    {
     "name": "stdout",
     "output_type": "stream",
     "text": [
      "Starting for N4_1\n",
      "Starting for N4_2\n",
      "Starting for N4_3\n",
      "Starting for N4_4\n",
      "Starting for N4_5\n"
     ]
    },
    {
     "name": "stderr",
     "output_type": "stream",
     "text": [
      "/home/kam/Data Mining/Project/MNE_Pipeline.py:83: RuntimeWarning: This filename (epochs/N5_epoch.fif) does not conform to MNE naming conventions. All epochs files should end with -epo.fif, -epo.fif.gz, _epo.fif or _epo.fif.gz\n",
      "  self.epochs = mne.read_epochs(path, verbose=0)\n"
     ]
    },
    {
     "name": "stdout",
     "output_type": "stream",
     "text": [
      "Starting for N5_1\n",
      "Starting for N5_2\n",
      "Starting for N5_3\n",
      "Starting for N5_4\n",
      "Starting for N5_5\n"
     ]
    },
    {
     "name": "stderr",
     "output_type": "stream",
     "text": [
      "/home/kam/Data Mining/Project/MNE_Pipeline.py:83: RuntimeWarning: This filename (epochs/N6_epoch.fif) does not conform to MNE naming conventions. All epochs files should end with -epo.fif, -epo.fif.gz, _epo.fif or _epo.fif.gz\n",
      "  self.epochs = mne.read_epochs(path, verbose=0)\n"
     ]
    },
    {
     "name": "stdout",
     "output_type": "stream",
     "text": [
      "Starting for N6_1\n",
      "Starting for N6_2\n",
      "Starting for N6_3\n",
      "Starting for N6_4\n",
      "Starting for N6_5\n"
     ]
    },
    {
     "name": "stderr",
     "output_type": "stream",
     "text": [
      "/home/kam/Data Mining/Project/MNE_Pipeline.py:83: RuntimeWarning: This filename (epochs/N7_epoch.fif) does not conform to MNE naming conventions. All epochs files should end with -epo.fif, -epo.fif.gz, _epo.fif or _epo.fif.gz\n",
      "  self.epochs = mne.read_epochs(path, verbose=0)\n"
     ]
    },
    {
     "name": "stdout",
     "output_type": "stream",
     "text": [
      "Starting for N7_1\n",
      "Starting for N7_2\n",
      "Starting for N7_3\n",
      "Starting for N7_4\n",
      "Starting for N7_5\n"
     ]
    },
    {
     "name": "stderr",
     "output_type": "stream",
     "text": [
      "/home/kam/Data Mining/Project/MNE_Pipeline.py:83: RuntimeWarning: This filename (epochs/N8_epoch.fif) does not conform to MNE naming conventions. All epochs files should end with -epo.fif, -epo.fif.gz, _epo.fif or _epo.fif.gz\n",
      "  self.epochs = mne.read_epochs(path, verbose=0)\n"
     ]
    },
    {
     "name": "stdout",
     "output_type": "stream",
     "text": [
      "Starting for N8_1\n",
      "Starting for N8_2\n",
      "Starting for N8_3\n",
      "Starting for N8_4\n",
      "Starting for N8_5\n"
     ]
    },
    {
     "name": "stderr",
     "output_type": "stream",
     "text": [
      "/home/kam/Data Mining/Project/MNE_Pipeline.py:83: RuntimeWarning: This filename (epochs/N9_epoch.fif) does not conform to MNE naming conventions. All epochs files should end with -epo.fif, -epo.fif.gz, _epo.fif or _epo.fif.gz\n",
      "  self.epochs = mne.read_epochs(path, verbose=0)\n"
     ]
    },
    {
     "name": "stdout",
     "output_type": "stream",
     "text": [
      "Starting for N9_1\n",
      "Starting for N9_2\n",
      "Starting for N9_3\n",
      "Starting for N9_4\n",
      "Starting for N9_5\n"
     ]
    },
    {
     "name": "stderr",
     "output_type": "stream",
     "text": [
      "/home/kam/Data Mining/Project/MNE_Pipeline.py:83: RuntimeWarning: This filename (epochs/S1_epoch.fif) does not conform to MNE naming conventions. All epochs files should end with -epo.fif, -epo.fif.gz, _epo.fif or _epo.fif.gz\n",
      "  self.epochs = mne.read_epochs(path, verbose=0)\n"
     ]
    },
    {
     "name": "stdout",
     "output_type": "stream",
     "text": [
      "Starting for S1_1\n",
      "Starting for S1_2\n",
      "Starting for S1_3\n",
      "Starting for S1_4\n",
      "Starting for S1_5\n"
     ]
    },
    {
     "name": "stderr",
     "output_type": "stream",
     "text": [
      "/home/kam/Data Mining/Project/MNE_Pipeline.py:83: RuntimeWarning: This filename (epochs/S10_epoch.fif) does not conform to MNE naming conventions. All epochs files should end with -epo.fif, -epo.fif.gz, _epo.fif or _epo.fif.gz\n",
      "  self.epochs = mne.read_epochs(path, verbose=0)\n"
     ]
    },
    {
     "name": "stdout",
     "output_type": "stream",
     "text": [
      "Starting for S10_1\n",
      "Starting for S10_2\n",
      "Starting for S10_3\n",
      "Starting for S10_4\n",
      "Starting for S10_5\n"
     ]
    },
    {
     "name": "stderr",
     "output_type": "stream",
     "text": [
      "/home/kam/Data Mining/Project/MNE_Pipeline.py:83: RuntimeWarning: This filename (epochs/S11_epoch.fif) does not conform to MNE naming conventions. All epochs files should end with -epo.fif, -epo.fif.gz, _epo.fif or _epo.fif.gz\n",
      "  self.epochs = mne.read_epochs(path, verbose=0)\n"
     ]
    },
    {
     "name": "stdout",
     "output_type": "stream",
     "text": [
      "Starting for S11_1\n",
      "Starting for S11_2\n",
      "Starting for S11_3\n",
      "Starting for S11_4\n",
      "Starting for S11_5\n"
     ]
    },
    {
     "name": "stderr",
     "output_type": "stream",
     "text": [
      "/home/kam/Data Mining/Project/MNE_Pipeline.py:83: RuntimeWarning: This filename (epochs/S12_epoch.fif) does not conform to MNE naming conventions. All epochs files should end with -epo.fif, -epo.fif.gz, _epo.fif or _epo.fif.gz\n",
      "  self.epochs = mne.read_epochs(path, verbose=0)\n"
     ]
    },
    {
     "name": "stdout",
     "output_type": "stream",
     "text": [
      "Starting for S12_1\n",
      "Starting for S12_2\n",
      "Starting for S12_3\n",
      "Starting for S12_4\n",
      "Starting for S12_5\n"
     ]
    },
    {
     "name": "stderr",
     "output_type": "stream",
     "text": [
      "/home/kam/Data Mining/Project/MNE_Pipeline.py:83: RuntimeWarning: This filename (epochs/S13_epoch.fif) does not conform to MNE naming conventions. All epochs files should end with -epo.fif, -epo.fif.gz, _epo.fif or _epo.fif.gz\n",
      "  self.epochs = mne.read_epochs(path, verbose=0)\n"
     ]
    },
    {
     "name": "stdout",
     "output_type": "stream",
     "text": [
      "Starting for S13_1\n",
      "Starting for S13_2\n",
      "Starting for S13_3\n",
      "Starting for S13_4\n",
      "Starting for S13_5\n"
     ]
    },
    {
     "name": "stderr",
     "output_type": "stream",
     "text": [
      "/home/kam/Data Mining/Project/MNE_Pipeline.py:83: RuntimeWarning: This filename (epochs/S14_epoch.fif) does not conform to MNE naming conventions. All epochs files should end with -epo.fif, -epo.fif.gz, _epo.fif or _epo.fif.gz\n",
      "  self.epochs = mne.read_epochs(path, verbose=0)\n"
     ]
    },
    {
     "name": "stdout",
     "output_type": "stream",
     "text": [
      "Starting for S14_1\n",
      "Starting for S14_2\n",
      "Starting for S14_3\n",
      "Starting for S14_4\n",
      "Starting for S14_5\n"
     ]
    },
    {
     "name": "stderr",
     "output_type": "stream",
     "text": [
      "/home/kam/Data Mining/Project/MNE_Pipeline.py:83: RuntimeWarning: This filename (epochs/S15_epoch.fif) does not conform to MNE naming conventions. All epochs files should end with -epo.fif, -epo.fif.gz, _epo.fif or _epo.fif.gz\n",
      "  self.epochs = mne.read_epochs(path, verbose=0)\n"
     ]
    },
    {
     "name": "stdout",
     "output_type": "stream",
     "text": [
      "Starting for S15_1\n",
      "Starting for S15_2\n",
      "Starting for S15_3\n",
      "Starting for S15_4\n",
      "Starting for S15_5\n"
     ]
    },
    {
     "name": "stderr",
     "output_type": "stream",
     "text": [
      "/home/kam/Data Mining/Project/MNE_Pipeline.py:83: RuntimeWarning: This filename (epochs/S16_epoch.fif) does not conform to MNE naming conventions. All epochs files should end with -epo.fif, -epo.fif.gz, _epo.fif or _epo.fif.gz\n",
      "  self.epochs = mne.read_epochs(path, verbose=0)\n"
     ]
    },
    {
     "name": "stdout",
     "output_type": "stream",
     "text": [
      "Starting for S16_1\n",
      "Starting for S16_2\n",
      "Starting for S16_3\n",
      "Starting for S16_4\n",
      "Starting for S16_5\n"
     ]
    },
    {
     "name": "stderr",
     "output_type": "stream",
     "text": [
      "/home/kam/Data Mining/Project/MNE_Pipeline.py:83: RuntimeWarning: This filename (epochs/S17_epoch.fif) does not conform to MNE naming conventions. All epochs files should end with -epo.fif, -epo.fif.gz, _epo.fif or _epo.fif.gz\n",
      "  self.epochs = mne.read_epochs(path, verbose=0)\n"
     ]
    },
    {
     "name": "stdout",
     "output_type": "stream",
     "text": [
      "Starting for S17_1\n",
      "Starting for S17_2\n",
      "Starting for S17_3\n",
      "Starting for S17_4\n",
      "Starting for S17_5\n"
     ]
    },
    {
     "name": "stderr",
     "output_type": "stream",
     "text": [
      "/home/kam/Data Mining/Project/MNE_Pipeline.py:83: RuntimeWarning: This filename (epochs/S18_epoch.fif) does not conform to MNE naming conventions. All epochs files should end with -epo.fif, -epo.fif.gz, _epo.fif or _epo.fif.gz\n",
      "  self.epochs = mne.read_epochs(path, verbose=0)\n"
     ]
    },
    {
     "name": "stdout",
     "output_type": "stream",
     "text": [
      "Starting for S18_1\n",
      "Starting for S18_2\n",
      "Starting for S18_3\n",
      "Starting for S18_4\n",
      "Starting for S18_5\n"
     ]
    },
    {
     "name": "stderr",
     "output_type": "stream",
     "text": [
      "/home/kam/Data Mining/Project/MNE_Pipeline.py:83: RuntimeWarning: This filename (epochs/S19_epoch.fif) does not conform to MNE naming conventions. All epochs files should end with -epo.fif, -epo.fif.gz, _epo.fif or _epo.fif.gz\n",
      "  self.epochs = mne.read_epochs(path, verbose=0)\n"
     ]
    },
    {
     "name": "stdout",
     "output_type": "stream",
     "text": [
      "Starting for S19_1\n",
      "Starting for S19_2\n",
      "Starting for S19_3\n",
      "Starting for S19_4\n",
      "Starting for S19_5\n"
     ]
    },
    {
     "name": "stderr",
     "output_type": "stream",
     "text": [
      "/home/kam/Data Mining/Project/MNE_Pipeline.py:83: RuntimeWarning: This filename (epochs/S2_epoch.fif) does not conform to MNE naming conventions. All epochs files should end with -epo.fif, -epo.fif.gz, _epo.fif or _epo.fif.gz\n",
      "  self.epochs = mne.read_epochs(path, verbose=0)\n"
     ]
    },
    {
     "name": "stdout",
     "output_type": "stream",
     "text": [
      "Starting for S2_1\n",
      "Starting for S2_2\n",
      "Starting for S2_3\n",
      "Starting for S2_4\n",
      "Starting for S2_5\n"
     ]
    },
    {
     "name": "stderr",
     "output_type": "stream",
     "text": [
      "/home/kam/Data Mining/Project/MNE_Pipeline.py:83: RuntimeWarning: This filename (epochs/S20_epoch.fif) does not conform to MNE naming conventions. All epochs files should end with -epo.fif, -epo.fif.gz, _epo.fif or _epo.fif.gz\n",
      "  self.epochs = mne.read_epochs(path, verbose=0)\n"
     ]
    },
    {
     "name": "stdout",
     "output_type": "stream",
     "text": [
      "Starting for S20_1\n",
      "Starting for S20_2\n",
      "Starting for S20_3\n",
      "Starting for S20_4\n",
      "Starting for S20_5\n"
     ]
    },
    {
     "name": "stderr",
     "output_type": "stream",
     "text": [
      "/home/kam/Data Mining/Project/MNE_Pipeline.py:83: RuntimeWarning: This filename (epochs/S21_epoch.fif) does not conform to MNE naming conventions. All epochs files should end with -epo.fif, -epo.fif.gz, _epo.fif or _epo.fif.gz\n",
      "  self.epochs = mne.read_epochs(path, verbose=0)\n"
     ]
    },
    {
     "name": "stdout",
     "output_type": "stream",
     "text": [
      "Starting for S21_1\n",
      "Starting for S21_2\n",
      "Starting for S21_3\n",
      "Starting for S21_4\n",
      "Starting for S21_5\n"
     ]
    },
    {
     "name": "stderr",
     "output_type": "stream",
     "text": [
      "/home/kam/Data Mining/Project/MNE_Pipeline.py:83: RuntimeWarning: This filename (epochs/S3_epoch.fif) does not conform to MNE naming conventions. All epochs files should end with -epo.fif, -epo.fif.gz, _epo.fif or _epo.fif.gz\n",
      "  self.epochs = mne.read_epochs(path, verbose=0)\n"
     ]
    },
    {
     "name": "stdout",
     "output_type": "stream",
     "text": [
      "Starting for S3_1\n",
      "Starting for S3_2\n",
      "Starting for S3_3\n",
      "Starting for S3_4\n",
      "Starting for S3_5\n"
     ]
    },
    {
     "name": "stderr",
     "output_type": "stream",
     "text": [
      "/home/kam/Data Mining/Project/MNE_Pipeline.py:83: RuntimeWarning: This filename (epochs/S4_epoch.fif) does not conform to MNE naming conventions. All epochs files should end with -epo.fif, -epo.fif.gz, _epo.fif or _epo.fif.gz\n",
      "  self.epochs = mne.read_epochs(path, verbose=0)\n"
     ]
    },
    {
     "name": "stdout",
     "output_type": "stream",
     "text": [
      "Starting for S4_1\n",
      "Starting for S4_2\n",
      "Starting for S4_3\n",
      "Starting for S4_4\n",
      "Starting for S4_5\n"
     ]
    },
    {
     "name": "stderr",
     "output_type": "stream",
     "text": [
      "/home/kam/Data Mining/Project/MNE_Pipeline.py:83: RuntimeWarning: This filename (epochs/S5_epoch.fif) does not conform to MNE naming conventions. All epochs files should end with -epo.fif, -epo.fif.gz, _epo.fif or _epo.fif.gz\n",
      "  self.epochs = mne.read_epochs(path, verbose=0)\n"
     ]
    },
    {
     "name": "stdout",
     "output_type": "stream",
     "text": [
      "Starting for S5_1\n",
      "Starting for S5_2\n",
      "Starting for S5_3\n",
      "Starting for S5_4\n",
      "Starting for S5_5\n"
     ]
    },
    {
     "name": "stderr",
     "output_type": "stream",
     "text": [
      "/home/kam/Data Mining/Project/MNE_Pipeline.py:83: RuntimeWarning: This filename (epochs/S6_epoch.fif) does not conform to MNE naming conventions. All epochs files should end with -epo.fif, -epo.fif.gz, _epo.fif or _epo.fif.gz\n",
      "  self.epochs = mne.read_epochs(path, verbose=0)\n"
     ]
    },
    {
     "name": "stdout",
     "output_type": "stream",
     "text": [
      "Starting for S6_1\n",
      "Starting for S6_2\n",
      "Starting for S6_3\n",
      "Starting for S6_4\n",
      "Starting for S6_5\n"
     ]
    },
    {
     "name": "stderr",
     "output_type": "stream",
     "text": [
      "/home/kam/Data Mining/Project/MNE_Pipeline.py:83: RuntimeWarning: This filename (epochs/S7_epoch.fif) does not conform to MNE naming conventions. All epochs files should end with -epo.fif, -epo.fif.gz, _epo.fif or _epo.fif.gz\n",
      "  self.epochs = mne.read_epochs(path, verbose=0)\n"
     ]
    },
    {
     "name": "stdout",
     "output_type": "stream",
     "text": [
      "Starting for S7_1\n",
      "Starting for S7_2\n",
      "Starting for S7_3\n",
      "Starting for S7_4\n",
      "Starting for S7_5\n"
     ]
    },
    {
     "name": "stderr",
     "output_type": "stream",
     "text": [
      "/home/kam/Data Mining/Project/MNE_Pipeline.py:83: RuntimeWarning: This filename (epochs/S8_epoch.fif) does not conform to MNE naming conventions. All epochs files should end with -epo.fif, -epo.fif.gz, _epo.fif or _epo.fif.gz\n",
      "  self.epochs = mne.read_epochs(path, verbose=0)\n"
     ]
    },
    {
     "name": "stdout",
     "output_type": "stream",
     "text": [
      "Starting for S8_1\n",
      "Starting for S8_2\n",
      "Starting for S8_3\n",
      "Starting for S8_4\n",
      "Starting for S8_5\n"
     ]
    },
    {
     "name": "stderr",
     "output_type": "stream",
     "text": [
      "/home/kam/Data Mining/Project/MNE_Pipeline.py:83: RuntimeWarning: This filename (epochs/S9_epoch.fif) does not conform to MNE naming conventions. All epochs files should end with -epo.fif, -epo.fif.gz, _epo.fif or _epo.fif.gz\n",
      "  self.epochs = mne.read_epochs(path, verbose=0)\n"
     ]
    },
    {
     "name": "stdout",
     "output_type": "stream",
     "text": [
      "Starting for S9_1\n",
      "Starting for S9_2\n",
      "Starting for S9_3\n",
      "Starting for S9_4\n",
      "Starting for S9_5\n"
     ]
    },
    {
     "name": "stderr",
     "output_type": "stream",
     "text": [
      "/home/kam/Data Mining/Project/MNE_Pipeline.py:83: RuntimeWarning: This filename (epochs/T1_epoch.fif) does not conform to MNE naming conventions. All epochs files should end with -epo.fif, -epo.fif.gz, _epo.fif or _epo.fif.gz\n",
      "  self.epochs = mne.read_epochs(path, verbose=0)\n"
     ]
    },
    {
     "name": "stdout",
     "output_type": "stream",
     "text": [
      "Starting for T1_1\n",
      "Starting for T1_2\n",
      "Starting for T1_3\n",
      "Starting for T1_4\n",
      "Starting for T1_5\n"
     ]
    },
    {
     "name": "stderr",
     "output_type": "stream",
     "text": [
      "/home/kam/Data Mining/Project/MNE_Pipeline.py:83: RuntimeWarning: This filename (epochs/T10_epoch.fif) does not conform to MNE naming conventions. All epochs files should end with -epo.fif, -epo.fif.gz, _epo.fif or _epo.fif.gz\n",
      "  self.epochs = mne.read_epochs(path, verbose=0)\n"
     ]
    },
    {
     "name": "stdout",
     "output_type": "stream",
     "text": [
      "Starting for T10_1\n",
      "Starting for T10_2\n",
      "Starting for T10_3\n",
      "Starting for T10_4\n",
      "Starting for T10_5\n"
     ]
    },
    {
     "name": "stderr",
     "output_type": "stream",
     "text": [
      "/home/kam/Data Mining/Project/MNE_Pipeline.py:83: RuntimeWarning: This filename (epochs/T11_epoch.fif) does not conform to MNE naming conventions. All epochs files should end with -epo.fif, -epo.fif.gz, _epo.fif or _epo.fif.gz\n",
      "  self.epochs = mne.read_epochs(path, verbose=0)\n"
     ]
    },
    {
     "name": "stdout",
     "output_type": "stream",
     "text": [
      "Starting for T11_1\n",
      "Starting for T11_2\n",
      "Starting for T11_3\n",
      "Starting for T11_4\n",
      "Starting for T11_5\n"
     ]
    },
    {
     "name": "stderr",
     "output_type": "stream",
     "text": [
      "/home/kam/Data Mining/Project/MNE_Pipeline.py:83: RuntimeWarning: This filename (epochs/T12_epoch.fif) does not conform to MNE naming conventions. All epochs files should end with -epo.fif, -epo.fif.gz, _epo.fif or _epo.fif.gz\n",
      "  self.epochs = mne.read_epochs(path, verbose=0)\n"
     ]
    },
    {
     "name": "stdout",
     "output_type": "stream",
     "text": [
      "Starting for T12_1\n",
      "Starting for T12_2\n",
      "Starting for T12_3\n",
      "Starting for T12_4\n",
      "Starting for T12_5\n"
     ]
    },
    {
     "name": "stderr",
     "output_type": "stream",
     "text": [
      "/home/kam/Data Mining/Project/MNE_Pipeline.py:83: RuntimeWarning: This filename (epochs/T13_epoch.fif) does not conform to MNE naming conventions. All epochs files should end with -epo.fif, -epo.fif.gz, _epo.fif or _epo.fif.gz\n",
      "  self.epochs = mne.read_epochs(path, verbose=0)\n"
     ]
    },
    {
     "name": "stdout",
     "output_type": "stream",
     "text": [
      "Starting for T13_1\n",
      "Starting for T13_2\n",
      "Starting for T13_3\n",
      "Starting for T13_4\n",
      "Starting for T13_5\n"
     ]
    },
    {
     "name": "stderr",
     "output_type": "stream",
     "text": [
      "/home/kam/Data Mining/Project/MNE_Pipeline.py:83: RuntimeWarning: This filename (epochs/T14_epoch.fif) does not conform to MNE naming conventions. All epochs files should end with -epo.fif, -epo.fif.gz, _epo.fif or _epo.fif.gz\n",
      "  self.epochs = mne.read_epochs(path, verbose=0)\n"
     ]
    },
    {
     "name": "stdout",
     "output_type": "stream",
     "text": [
      "Starting for T14_1\n",
      "Starting for T14_2\n",
      "Starting for T14_3\n",
      "Starting for T14_4\n",
      "Starting for T14_5\n"
     ]
    },
    {
     "name": "stderr",
     "output_type": "stream",
     "text": [
      "/home/kam/Data Mining/Project/MNE_Pipeline.py:83: RuntimeWarning: This filename (epochs/T2_epoch.fif) does not conform to MNE naming conventions. All epochs files should end with -epo.fif, -epo.fif.gz, _epo.fif or _epo.fif.gz\n",
      "  self.epochs = mne.read_epochs(path, verbose=0)\n"
     ]
    },
    {
     "name": "stdout",
     "output_type": "stream",
     "text": [
      "Starting for T2_1\n",
      "Starting for T2_2\n",
      "Starting for T2_3\n",
      "Starting for T2_4\n",
      "Starting for T2_5\n"
     ]
    },
    {
     "name": "stderr",
     "output_type": "stream",
     "text": [
      "/home/kam/Data Mining/Project/MNE_Pipeline.py:83: RuntimeWarning: This filename (epochs/T3_epoch.fif) does not conform to MNE naming conventions. All epochs files should end with -epo.fif, -epo.fif.gz, _epo.fif or _epo.fif.gz\n",
      "  self.epochs = mne.read_epochs(path, verbose=0)\n"
     ]
    },
    {
     "name": "stdout",
     "output_type": "stream",
     "text": [
      "Starting for T3_1\n",
      "Starting for T3_2\n",
      "Starting for T3_3\n",
      "Starting for T3_4\n",
      "Starting for T3_5\n"
     ]
    },
    {
     "name": "stderr",
     "output_type": "stream",
     "text": [
      "/home/kam/Data Mining/Project/MNE_Pipeline.py:83: RuntimeWarning: This filename (epochs/T4_epoch.fif) does not conform to MNE naming conventions. All epochs files should end with -epo.fif, -epo.fif.gz, _epo.fif or _epo.fif.gz\n",
      "  self.epochs = mne.read_epochs(path, verbose=0)\n"
     ]
    },
    {
     "name": "stdout",
     "output_type": "stream",
     "text": [
      "Starting for T4_1\n",
      "Starting for T4_2\n",
      "Starting for T4_3\n",
      "Starting for T4_4\n",
      "Starting for T4_5\n"
     ]
    },
    {
     "name": "stderr",
     "output_type": "stream",
     "text": [
      "/home/kam/Data Mining/Project/MNE_Pipeline.py:83: RuntimeWarning: This filename (epochs/T5_epoch.fif) does not conform to MNE naming conventions. All epochs files should end with -epo.fif, -epo.fif.gz, _epo.fif or _epo.fif.gz\n",
      "  self.epochs = mne.read_epochs(path, verbose=0)\n"
     ]
    },
    {
     "name": "stdout",
     "output_type": "stream",
     "text": [
      "Starting for T5_1\n",
      "Starting for T5_2\n",
      "Starting for T5_3\n",
      "Starting for T5_4\n",
      "Starting for T5_5\n"
     ]
    },
    {
     "name": "stderr",
     "output_type": "stream",
     "text": [
      "/home/kam/Data Mining/Project/MNE_Pipeline.py:83: RuntimeWarning: This filename (epochs/T6_epoch.fif) does not conform to MNE naming conventions. All epochs files should end with -epo.fif, -epo.fif.gz, _epo.fif or _epo.fif.gz\n",
      "  self.epochs = mne.read_epochs(path, verbose=0)\n"
     ]
    },
    {
     "name": "stdout",
     "output_type": "stream",
     "text": [
      "Starting for T6_1\n",
      "Starting for T6_2\n",
      "Starting for T6_3\n",
      "Starting for T6_4\n",
      "Starting for T6_5\n"
     ]
    },
    {
     "name": "stderr",
     "output_type": "stream",
     "text": [
      "/home/kam/Data Mining/Project/MNE_Pipeline.py:83: RuntimeWarning: This filename (epochs/T7_epoch.fif) does not conform to MNE naming conventions. All epochs files should end with -epo.fif, -epo.fif.gz, _epo.fif or _epo.fif.gz\n",
      "  self.epochs = mne.read_epochs(path, verbose=0)\n"
     ]
    },
    {
     "name": "stdout",
     "output_type": "stream",
     "text": [
      "Starting for T7_1\n",
      "Starting for T7_2\n",
      "Starting for T7_3\n",
      "Starting for T7_4\n",
      "Starting for T7_5\n"
     ]
    },
    {
     "name": "stderr",
     "output_type": "stream",
     "text": [
      "/home/kam/Data Mining/Project/MNE_Pipeline.py:83: RuntimeWarning: This filename (epochs/T8_epoch.fif) does not conform to MNE naming conventions. All epochs files should end with -epo.fif, -epo.fif.gz, _epo.fif or _epo.fif.gz\n",
      "  self.epochs = mne.read_epochs(path, verbose=0)\n"
     ]
    },
    {
     "name": "stdout",
     "output_type": "stream",
     "text": [
      "Starting for T8_1\n",
      "Starting for T8_2\n",
      "Starting for T8_3\n",
      "Starting for T8_4\n",
      "Starting for T8_5\n"
     ]
    },
    {
     "name": "stderr",
     "output_type": "stream",
     "text": [
      "/home/kam/Data Mining/Project/MNE_Pipeline.py:83: RuntimeWarning: This filename (epochs/T9_epoch.fif) does not conform to MNE naming conventions. All epochs files should end with -epo.fif, -epo.fif.gz, _epo.fif or _epo.fif.gz\n",
      "  self.epochs = mne.read_epochs(path, verbose=0)\n"
     ]
    },
    {
     "name": "stdout",
     "output_type": "stream",
     "text": [
      "Starting for T9_1\n",
      "Starting for T9_2\n",
      "Starting for T9_3\n",
      "Starting for T9_4\n",
      "Starting for T9_5\n",
      "\n"
     ]
    }
   ],
   "source": [
    "for path, subject in tqdm(zip(subject_epoch_paths, subjects)):\n",
    "    epochs = mp.load_epochs(path)\n",
    "    mp_ext.async_bootstrap_epochs(subject, epochs, ['1','2', '3', '4', '5'], iterations=30, sampling_rate=100, \n",
    "                                  save_path='bootstrap_erps')"
   ]
  },
  {
   "cell_type": "code",
   "execution_count": 12,
   "metadata": {},
   "outputs": [
    {
     "data": {
      "application/vnd.jupyter.widget-view+json": {
       "model_id": "59f4a4d5814e4b91b0d1cf8fa6d2fab8",
       "version_major": 2,
       "version_minor": 0
      },
      "text/plain": [
       "HBox(children=(FloatProgress(value=0.0, max=5.0), HTML(value='')))"
      ]
     },
     "metadata": {},
     "output_type": "display_data"
    },
    {
     "name": "stdout",
     "output_type": "stream",
     "text": [
      "\n"
     ]
    }
   ],
   "source": [
    "bootstrap_erp_path = [os.path.join('bootstrap_erps', subject) for subject in subjects]\n",
    "events = ['1','2', '3', '4', '5']\n",
    "\n",
    "erps_event_wise = np.zeros((7500, 64, 500))\n",
    "\n",
    "i = 0\n",
    "j = 30\n",
    "for event in tqdm(events):\n",
    "    for path in bootstrap_erp_path:\n",
    "        erps = pickle.load(open(path, 'rb'))\n",
    "        \n",
    "        gfp = np.sum(erps[event] ** 2, axis=1)\n",
    "        \n",
    "        erps_event_wise[i:j] = erps[event]\n",
    "        \n",
    "        i += 30\n",
    "        j += 30"
   ]
  },
  {
   "cell_type": "code",
   "execution_count": 21,
   "metadata": {},
   "outputs": [],
   "source": [
    "erps_event_wise = erps_event_wise.transpose(0,2,1)"
   ]
  },
  {
   "cell_type": "code",
   "execution_count": 20,
   "metadata": {},
   "outputs": [
    {
     "data": {
      "text/plain": [
       "(7501,)"
      ]
     },
     "execution_count": 20,
     "metadata": {},
     "output_type": "execute_result"
    }
   ],
   "source": [
    "t = np.arange(0,3750001,500)\n",
    "t.shape"
   ]
  },
  {
   "cell_type": "code",
   "execution_count": 22,
   "metadata": {},
   "outputs": [],
   "source": [
    "save_path = 'HDP-HMM input/data.npz'\n",
    "\n",
    "doc_range = [0, 500]\n",
    "    \n",
    "np.savez(save_path, X=erps_event_wise.reshape((-1, 64)), doc_range=t)"
   ]
  }
 ],
 "metadata": {
  "kernelspec": {
   "display_name": "Python 3",
   "language": "python",
   "name": "python3"
  },
  "language_info": {
   "codemirror_mode": {
    "name": "ipython",
    "version": 3
   },
   "file_extension": ".py",
   "mimetype": "text/x-python",
   "name": "python",
   "nbconvert_exporter": "python",
   "pygments_lexer": "ipython3",
   "version": "3.7.4"
  }
 },
 "nbformat": 4,
 "nbformat_minor": 2
}
